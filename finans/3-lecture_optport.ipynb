{
  "cells": [
    {
      "cell_type": "markdown",
      "metadata": {},
      "source": [
        "# 3 - Optimal Portfolios and Matrices”\n",
        "\n",
        "Espen Sirnes  \n",
        "2024-09-18\n",
        "\n",
        "This lecture explores the strategic behavior of an investor in the stock\n",
        "market, particularly under the assumption of risk aversion, as discussed\n",
        "in the previous note on utility theory. Risk lovers generally prefer the\n",
        "most risky assets, while risk-neutral investors opt for assets with the\n",
        "highest returns. In contrast, a risk-averse investor seeks to maximize\n",
        "returns without disproportionately increasing volatility, typically\n",
        "measured as variance.\n",
        "\n",
        "# Matrices\n",
        "\n",
        "To calculate optimal portfolios for any number of assets, a basic\n",
        "understanding of matrix algebra is essential. Matrix algebra simplifies\n",
        "the resolution of several equations simultaneously, a process that\n",
        "becomes increasingly complex with the addition of variables. Using\n",
        "matrix functions in software like Excel and various statistical packages\n",
        "allows us to solve systems of equations efficiently without manually\n",
        "computing each one.\n",
        "\n",
        "Matrices not only streamline the computation but also simplify notation,\n",
        "making the formulation of equations for optimal portfolios more\n",
        "manageable.\n",
        "\n",
        "A matrix is a structured array of numbers arranged in rows and columns,\n",
        "essentially a set of vectors. Here’s an example of a vector:"
      ],
      "id": "a19e3f1f-4d9d-4ebc-88e9-4eda9d9e5da9"
    },
    {
      "cell_type": "code",
      "execution_count": 1,
      "metadata": {},
      "outputs": [
        {
          "output_type": "display_data",
          "metadata": {},
          "data": {
            "text/plain": [
              "array([38, 23, 87])"
            ]
          }
        }
      ],
      "source": [
        "import numpy as np\n",
        "np.random.randint(0,100,3)"
      ],
      "id": "e450cb70"
    },
    {
      "cell_type": "markdown",
      "metadata": {},
      "source": [
        "Combining several vectors side-by-side forms a matrix:"
      ],
      "id": "0fa2ed76-fc32-4fea-a91b-97d178afaad0"
    },
    {
      "cell_type": "code",
      "execution_count": 2,
      "metadata": {},
      "outputs": [
        {
          "output_type": "display_data",
          "metadata": {},
          "data": {
            "text/plain": [
              "array([[77, 20, 54],\n",
              "       [70, 15, 12]])"
            ]
          }
        }
      ],
      "source": [
        "np.random.randint(0,100,(2,3))"
      ],
      "id": "b5b4ef8d"
    },
    {
      "cell_type": "markdown",
      "metadata": {},
      "source": [
        "This format is sometimes denoted as $\\mathbf{X}_{N \\times K}$ to\n",
        "indicate the number of rows ($N$) and columns ($K$).\n",
        "\n",
        "# Algebra with Matrices\n",
        "\n",
        "Matrix algebra operates under similar principles to ordinary\n",
        "algebra—allowing addition, subtraction, multiplication, and division\n",
        "(through inversion)—but it also requires adherence to specific rules.\n",
        "\n",
        "## Matrix Multiplication\n",
        "\n",
        "The core operation in matrix algebra is matrix multiplication, which\n",
        "combines elements from the rows of the first matrix with the columns of\n",
        "the second. For example, multiplying a $2 \\times 3$ matrix by a\n",
        "$3 \\times 2$ matrix yields:"
      ],
      "id": "8e5ab1fb-0d12-493b-90c6-2826f7fce773"
    },
    {
      "cell_type": "code",
      "execution_count": 3,
      "metadata": {},
      "outputs": [
        {
          "output_type": "stream",
          "name": "stdout",
          "text": [
            "[[4 4 4]\n",
            " [4 1 0]]\n",
            "[[1 4]\n",
            " [2 0]\n",
            " [4 2]]\n",
            "[[28 24]\n",
            " [ 6 16]]"
          ]
        }
      ],
      "source": [
        "X = np.random.randint(0,5,(2,3))\n",
        "Y = np.random.randint(0,5,(3,2))\n",
        "result = np.dot(X, Y)\n",
        "print(X)\n",
        "print(Y)\n",
        "print(result)"
      ],
      "id": "746a9839"
    },
    {
      "cell_type": "markdown",
      "metadata": {},
      "source": [
        "What happens is that we sum the product of the elements in each row of\n",
        "the first matrix and each column of the second. You can for example\n",
        "check that element \\[0,0\\] of the result is the sum of the product of\n",
        "the first row of the first matrix, and the first column of the second.\n",
        "An easy way to remember this is to think of the multiplication of\n",
        "$A \\times B$ is to follow the lines of the letters: ![multiplication\n",
        "rule](attachment:img/multrule.png \"Muliplication rule\")\n",
        "\n",
        "Due to the rules for matrix multiplication, it requires the number of\n",
        "columns in the first matrix to match the number of rows in the second.\n",
        "\n",
        "The matrix multiplication is different from the normal multiplication in\n",
        "Python. Normal multiplicaiton can be done with the normal multiplication\n",
        "operator `*`. It will then multiply each element in X with the\n",
        "corresponding element of Y, and both matrices must be of the same size:"
      ],
      "attachments": {
        "img/multrule.png": {
          "image/png": "[encoded data removed]"
        }
      },
      "id": "3ed810b0-56ff-427c-b111-4d4b954f5a41"
    },
    {
      "cell_type": "code",
      "execution_count": 4,
      "metadata": {},
      "outputs": [
        {
          "output_type": "stream",
          "name": "stdout",
          "text": [
            "[[4 0 4]\n",
            " [2 2 4]]\n",
            "[[0 2 4]\n",
            " [1 3 3]]\n",
            "[[ 0  0 16]\n",
            " [ 2  6 12]]"
          ]
        }
      ],
      "source": [
        "X = np.random.randint(0,5,(2,3))\n",
        "Y = np.random.randint(0,5,(2,3))\n",
        "result = X*Y\n",
        "print(X)\n",
        "print(Y)\n",
        "print(result)"
      ],
      "id": "e622ff4c"
    },
    {
      "cell_type": "markdown",
      "metadata": {},
      "source": [
        "The reason for using the former method, is that the former is required\n",
        "for solving sets of equations.\n",
        "\n",
        "## Adding and Subtracting Matrices\n",
        "\n",
        "Adding or subtracting matrices is straightforward; simply add or\n",
        "subtract corresponding elements. In Python, the multiplication requires\n",
        "numpy function, but if the matrices are numpy variables, subtraction and\n",
        "addition can be done with the normal operators."
      ],
      "id": "598eab8c-5811-43c8-8b9f-635b97a44ef0"
    },
    {
      "cell_type": "code",
      "execution_count": 5,
      "metadata": {},
      "outputs": [
        {
          "output_type": "stream",
          "name": "stdout",
          "text": [
            "[[ 6 22]\n",
            " [52  3]]\n",
            "[[60 30]\n",
            " [88 65]]\n",
            "[[ 66  52]\n",
            " [140  68]]"
          ]
        }
      ],
      "source": [
        "import numpy as np\n",
        "\n",
        "X = np.random.randint(0,100,(2,2))\n",
        "Y = np.random.randint(0,100,(2,2))\n",
        "\n",
        "# Addition of matrices\n",
        "result_add = X + Y\n",
        "print(X)\n",
        "print(Y)\n",
        "print(result_add)"
      ],
      "id": "73726be0"
    },
    {
      "cell_type": "markdown",
      "metadata": {},
      "source": [
        "## Dividing with a Matrix\n",
        "\n",
        "While direct division isn’t defined in matrix operations, we can achieve\n",
        "a similar result by multiplying by the inverse of a matrix. The inverse\n",
        "of a matrix $\\mathbf{X}$, denoted $\\mathbf{X}^{-1}$, satisfies:\n",
        "\n",
        "$$\n",
        "\\mathbf{X} \\times \\mathbf{X}^{-1} = \\mathbf{I} =\n",
        "\\begin{pmatrix}\n",
        "1 & 0 & \\cdots & 0 \\\\\n",
        "0 & 1 & \\cdots & 0 \\\\\n",
        "\\vdots & \\vdots & \\ddots & \\vdots \\\\\n",
        "0 & 0 & \\cdots & 1\n",
        "\\end{pmatrix}\n",
        "$$\n",
        "\n",
        "where $\\mathbf{I}$ is the identity matrix. Multiplying any matrix by\n",
        "$\\mathbf{I}$ results in the original matrix, akin to multiplying any\n",
        "number by 1.\n",
        "\n",
        "In practice, while the concept is straightforward, the actual\n",
        "calculation of a matrix inverse can become complex for larger matrices\n",
        "and is typically handled by computers. We will not go through the method\n",
        "of obtaining the inverse in this course, we will in stead just utilize\n",
        "the numpy funciton for calculating the inverse. Specifically, we use\n",
        "`np.linalg.inv(X)`. We can check that it actually complies with the\n",
        "definition like this:"
      ],
      "id": "f7cfeb59-32ec-49b3-90cf-b073dd168d69"
    },
    {
      "cell_type": "code",
      "execution_count": 6,
      "metadata": {},
      "outputs": [
        {
          "output_type": "display_data",
          "metadata": {},
          "data": {
            "text/plain": [
              "array([[ 1., -0.,  0.],\n",
              "       [ 0.,  1.,  0.],\n",
              "       [ 0., -0.,  1.]])"
            ]
          }
        }
      ],
      "source": [
        "X = np.random.randint(0,10,(3,3))\n",
        "# Calculating inverse of X\n",
        "X_inv = np.linalg.inv(X)\n",
        "\n",
        "# Testing\n",
        "np.round(np.dot(X_inv, X),1)"
      ],
      "id": "e5b81b72"
    },
    {
      "cell_type": "markdown",
      "metadata": {},
      "source": [
        "## Solving Equations with Matrix Algebra\n",
        "\n",
        "The foundation we’ve established for matrix algebra now allows us to\n",
        "efficiently solve systems of equations. Consider solving the following\n",
        "pair of simultaneous equations:\n",
        "\n",
        "$$\n",
        "x_{11}a_{1} + x_{12}a_{2} = b_{1} \\\\\n",
        "x_{21}a_{1} + x_{22}a_{2} = b_{2}\n",
        "$$\n",
        "\n",
        "Here, we know the values of $x$ and $b$ but need to find the values of\n",
        "$a$. These equations can be succinctly expressed using matrix notation:\n",
        "\n",
        "$$\n",
        "\\mathbf{X \\times a} = \\mathbf{b}\n",
        "$$\n",
        "\n",
        "where $\\mathbf{a}$ and $\\mathbf{b}$ are column vectors. Let us define\n",
        "the right hand side vector `b` and the coeficient matrix `X` randomly in\n",
        "python as"
      ],
      "id": "cd152ea8-9b78-454b-8f14-2ad4c58285dd"
    },
    {
      "cell_type": "code",
      "execution_count": 7,
      "metadata": {},
      "outputs": [
        {
          "output_type": "stream",
          "name": "stdout",
          "text": [
            "[[36 45]\n",
            " [ 5 31]]\n",
            "[[78]\n",
            " [15]]"
          ]
        }
      ],
      "source": [
        "b =  np.random.randint(0,100,(2,1))\n",
        "# Define matrix X\n",
        "X =  np.random.randint(0,100,(2,2))\n",
        "print(X)\n",
        "print(b)"
      ],
      "id": "f28907d4"
    },
    {
      "cell_type": "markdown",
      "metadata": {},
      "source": [
        "To solve for $\\mathbf{a}$, we use the inverse of $\\mathbf{X}$, provided\n",
        "it exists, and multiplies it with the left and right hand sides of the\n",
        "equation, just as we would divide with X on both sides to solve for a\n",
        "single equation:\n",
        "\n",
        "$$\n",
        "\\mathbf{X}^{-1} \\times \\mathbf{X} \\times \\mathbf{a} = \\mathbf{X}^{-1}\\mathbf{b}\n",
        "$$\n",
        "\n",
        "Since we know that $\\mathbf{X}^{-1}$ is the solution to\n",
        "$\\mathbf{X}^{-1} \\times \\mathbf{X} = \\mathbf{I}$, premultiplying with\n",
        "$\\mathbf{X}^{-1}$ yields:\n",
        "\n",
        "$$\n",
        "\\mathbf{a} = \\mathbf{X}^{-1}\\mathbf{b}\n",
        "$$\n",
        "\n",
        "Hence, we have found an easy way to solve any linear equation. We can\n",
        "test that it works in python. Let us first find `a` using this approach:"
      ],
      "id": "6a80382b-b5f0-42da-827e-3e83c0d5efbe"
    },
    {
      "cell_type": "code",
      "execution_count": 8,
      "metadata": {},
      "outputs": [
        {
          "output_type": "display_data",
          "metadata": {},
          "data": {
            "text/plain": [
              "array([[1.95622896],\n",
              "       [0.16835017]])"
            ]
          }
        }
      ],
      "source": [
        "a = np.dot(np.linalg.inv(X), b)\n",
        "a"
      ],
      "id": "19882480"
    },
    {
      "cell_type": "markdown",
      "metadata": {},
      "source": [
        "If you get a “Singular matrix” error its because we are generating `X`\n",
        "with a few random integers, which sometimes creates unsolvable systems,\n",
        "so just generate `X` and `b` again.\n",
        "\n",
        "Now we can test, if the solution for a actually works, by applying it on\n",
        "the original equation $\\mathbf{X \\times a} = \\mathbf{b}$. This should\n",
        "yield the right hand side of th equation, `b`:"
      ],
      "id": "be3b6b98-18f3-49ac-9312-6961b133c703"
    },
    {
      "cell_type": "code",
      "execution_count": 9,
      "metadata": {},
      "outputs": [
        {
          "output_type": "display_data",
          "metadata": {},
          "data": {
            "text/plain": [
              "array([[78.],\n",
              "       [15.]])"
            ]
          }
        }
      ],
      "source": [
        "np.dot(X, a)"
      ],
      "id": "4c819168"
    },
    {
      "cell_type": "markdown",
      "metadata": {},
      "source": [
        "Compare this with the actual `b`:"
      ],
      "id": "5a85f571-5c70-4ada-aea0-06f1f6a6b107"
    },
    {
      "cell_type": "code",
      "execution_count": 10,
      "metadata": {},
      "outputs": [
        {
          "output_type": "display_data",
          "metadata": {},
          "data": {
            "text/plain": [
              "array([[78.],\n",
              "       [15.]])"
            ]
          }
        }
      ],
      "source": [
        "np.dot(X, a)"
      ],
      "id": "7f0c5ffd"
    },
    {
      "cell_type": "markdown",
      "metadata": {},
      "source": [
        "Thus, we have identified an effective method to solve any system of\n",
        "equations, provided that $\\mathbf{X}$ is invertible. If $\\mathbf{X}$\n",
        "cannot be inverted, it indicates that two or more equations are\n",
        "essentially identical, leading to an “underdetermined” system. In such\n",
        "cases, some equations are redundant, and there are not enough\n",
        "independent equations to determine the values of all variables. Remember\n",
        "the fundamental rule: we need an equal number of equations and unknowns\n",
        "to uniquely solve for each variable.\n",
        "\n",
        "## Transposing\n",
        "\n",
        "Transposing a matrix involves swapping its rows and columns. For\n",
        "example, a $2 \\times 3$ matrix:\n",
        "\n",
        "$$\n",
        "\\mathbf{X}_{2 \\times 3} =\n",
        "\\begin{pmatrix}\n",
        "x_{11} & x_{12} & x_{13} \\\\\n",
        "x_{21} & x_{22} & x_{23}\n",
        "\\end{pmatrix}\n",
        "$$\n",
        "\n",
        "transposes to:\n",
        "\n",
        "$$\n",
        "\\mathbf{X}_{2 \\times 3}^{\\prime} =\n",
        "\\begin{pmatrix}\n",
        "x_{11} & x_{21} \\\\\n",
        "x_{12} & x_{22} \\\\\n",
        "x_{13} & x_{23}\n",
        "\\end{pmatrix}\n",
        "$$\n",
        "\n",
        "where $^{\\prime}$ denotes the transposed matrix. For a column vector\n",
        "$\\mathbf{a}$, transposing and then multiplying by itself,\n",
        "$\\mathbf{a}^{\\prime}\\mathbf{a}$, calculates the sum of squares of its\n",
        "components."
      ],
      "id": "5dde5a90-060a-43a6-b339-80967c193d0d"
    },
    {
      "cell_type": "code",
      "execution_count": 11,
      "metadata": {},
      "outputs": [
        {
          "output_type": "display_data",
          "metadata": {},
          "data": {
            "text/plain": [
              "array([[ 4, 28],\n",
              "       [96, 12],\n",
              "       [88, 24]])"
            ]
          }
        }
      ],
      "source": [
        "# Example of matrix transposition\n",
        "X_2x3 = np.random.randint(0,100,(2,3))\n",
        "X_transposed = X_2x3.T\n",
        "X_transposed"
      ],
      "id": "1436e442"
    },
    {
      "cell_type": "markdown",
      "metadata": {},
      "source": [
        "Transposition is often used to conform to the requirements of matrix\n",
        "multiplication, where the number of columns in the first matrix must\n",
        "match the number of rows in the second. If this is not the case, one\n",
        "might transpose the first matrix to facilitate multiplication.\n",
        "\n",
        "# Calculus and matrices\n",
        "\n",
        "Deriving matrices follows similar principles to deriving polynomials.\n",
        "For instance:\n",
        "\n",
        "$$\n",
        "\\frac{d\\left( a^{2} \\sigma^{2} \\right)}{da} = 2a \\sigma^{2}\n",
        "$$\n",
        "\n",
        "applies to scalar variables, and for a matrix $\\mathbf{\\Sigma}$ and a\n",
        "column vector $\\mathbf{a}$, we have:\n",
        "\n",
        "$$\n",
        "\\frac{d\\left(\\mathbf{a}^{\\prime} \\mathbf{\\Sigma} \\mathbf{a} \\right)}{d \\mathbf{a}^{\\prime}} = 2 \\mathbf{\\Sigma}\\mathbf{a}\n",
        "$$\n",
        "\n",
        "assuming $\\mathbf{\\Sigma}$ is symmetric. In practical terms, the\n",
        "derivative with respect to `a` here, given some values for `a`, is"
      ],
      "id": "7e5cccdb-b290-4d62-aeea-0717e81c0728"
    },
    {
      "cell_type": "code",
      "execution_count": 12,
      "metadata": {},
      "outputs": [
        {
          "output_type": "display_data",
          "metadata": {},
          "data": {
            "text/plain": [
              "array([[2988],\n",
              "       [2162]])"
            ]
          }
        }
      ],
      "source": [
        "# Derivation with matrix and vector\n",
        "a = np.random.randint(0,100,(2,1))\n",
        "Sigma = np.random.randint(0,100,(2,2))\n",
        "\n",
        "# Derivative of a' Σ a with respect to a\n",
        "derivative = 2 * np.dot(Sigma, a)\n",
        "derivative"
      ],
      "id": "ab62ddbd"
    },
    {
      "cell_type": "markdown",
      "metadata": {},
      "source": [
        "We can rewrite the matrix formulation in scalar form, to check that the\n",
        "rule is correct. The scalar form of\n",
        "$\\mathbf{a}^{\\prime} \\mathbf{\\Sigma}\\mathbf{a}$ is\n",
        "\n",
        "$$\n",
        "\\mathbf{a}^{\\prime} \\mathbf{\\Sigma} \\mathbf{a} = \\sum_{j=0}^{N} a_j \\left( \\sum_{i=0}^{N} a_i \\sigma_{ij} \\right)\n",
        "$$\n",
        "\n",
        "You can verify that\n",
        "\n",
        "$$\n",
        "\\frac{d(\\mathbf{a}^{\\prime} \\mathbf{\\Sigma} \\mathbf{a}) }{d\\mathbf{a}}= 2 [\\sum_{i=0}^{N} a_i \\sigma_{i0}, ..., \\sum_{i=0}^{N} a_i \\sigma_{iN}]\n",
        "$$\n",
        "\n",
        "# Optimal portfolios with more than one asset\n",
        "\n",
        "We remember from above the previous chapter that with one asset, the\n",
        "optimal portfolio was\n",
        "\n",
        "$$\n",
        "a=\\frac{(mu -r)}{\\lambda \\sigma^2}\n",
        "$$\n",
        "\n",
        "From this we concluded that:\n",
        "\n",
        "1.  The more risk-averse the person is, the less they should invest.\n",
        "2.  The larger the expected return of the asset, the more should be\n",
        "    invested.\n",
        "3.  The greater the risk associated with the asset, represented by\n",
        "    $\\sigma^2$, the less should be invested.\n",
        "\n",
        "Now, let us consider the optimal investments if we have more than one\n",
        "asset.\n",
        "\n",
        "## Optimal Portfolios with Any Number of Assets\n",
        "\n",
        "Let us now assume that the investor in the previous section has a\n",
        "portfolio of $K$ assets, not just one. Their wealth next period,\n",
        "assuming the entire amount is borrowed, is then expressed in matrix\n",
        "notation as:\n",
        "\n",
        "$$\n",
        "W_1 = \\mathbf{a}'\\mathbf{x} - \\mathbf{1}r\n",
        "$$\n",
        "\n",
        "where $\\mathbf{a}$ represents the portfolio weights, $\\mathbf{x}$\n",
        "represents the returns, and $\\mathbf{1}$ is a column vector of ones,\n",
        "such that $\\mathbf{1}r$ is a column vector of the risk-free interest\n",
        "rate $r$. Recall from earlier that the investor aims to maximize the\n",
        "difference between expected return and variance:\n",
        "\n",
        "$$\n",
        "\\max_{\\mathbf{a}} Z = \\mathbb{E}W_1 - \\pi \\frac{1}{2} \\operatorname{var}(W_1)  \n",
        "$$\n",
        "\n",
        "$\\mathbf{x}$ now is a column vector of many normally distributed\n",
        "variables with different variances and expectations. We denote the\n",
        "expected returns by $\\mu_i$ for asset $i$, and the associated vector of\n",
        "these returns by $\\mathbf{\\mu}$. Given a portfolio $\\mathbf{a}$, the\n",
        "expected return on the portfolio then becomes:\n",
        "\n",
        "$$\n",
        "\\mathbb{E}W_1 = \\mathbf{a}'(\\mathbb{E}\\mathbf{x}-\\mathbf{1}r) = \\mathbf{a}\\mathbf{\\mu} - \\mathbf{1}r\n",
        "$$\n",
        "\n",
        "For the variance, the risk free return $r$ is not relevant, since means\n",
        "are subtracted anyway. We define the covariance matrix, all the\n",
        "combinations of variance and covariance between the stocks as\n",
        "\n",
        "$$\n",
        "\\operatorname{var}W_1 = \\mathbf{\\Sigma} = \n",
        "\\begin{bmatrix}\n",
        "\\sigma_0 & \\sigma_1 & \\cdots & \\sigma_N \\\\\n",
        "\\sigma_1 & \\sigma_2 & \\cdots & \\vdots \\\\\n",
        "\\vdots & \\vdots & \\ddots & \\vdots \\\\\n",
        "\\sigma_N & \\cdots & \\cdots & \\sigma_{NN}\n",
        "\\end{bmatrix}\n",
        "$$\n",
        "\n",
        "Where $\\sigma_{ij}$ is the covariance between $i$ and $j$, and\n",
        "$\\sigma_i^2$ is the variance of asset $i$. This is the covariance\n",
        "matrix, denoted by the capital sigma, $\\mathbf{\\Sigma}$.\n",
        "\n",
        "When a vector is normally distributed we write it as\n",
        "$\\mathbf{x} \\sim N(\\mathbf{\\mu}, \\mathbf{\\Sigma})$.\n",
        "\n",
        "We have now derived expressions for $\\mathbb{E}(W_1)$ and\n",
        "$\\operatorname{var}(W_1)$ using matrix notation. Building on the\n",
        "concepts from the previous lecture, we can now formulate our portfolio\n",
        "optimization problem as:\n",
        "\n",
        "$$\n",
        "\\max_{\\mathbf{a}} Z = \\mathbf{a}(\\mathbf{\\mu} - \\mathbf{1}r) - \\lambda \\frac{1}{2} \\mathbf{a}'\\mathbf{\\Sigma a}\n",
        "$$\n",
        "\n",
        "Taking the derivative with respect to $\\mathbf{a}'$ yields the $K$ first\n",
        "order conditions:\n",
        "\n",
        "$$\n",
        "\\frac{dZ}{d\\mathbf{a}} = (\\mathbf{\\mu} - \\mathbf{1}r) - \\lambda \\mathbf{\\Sigma a} = 0\n",
        "$$\n",
        "\n",
        "Hence, in optimum:\n",
        "\n",
        "$$\n",
        "\\mathbf{\\Sigma a} = \\frac{1}{\\lambda}(\\mathbf{\\mu} - \\mathbf{1}r)\n",
        "$$\n",
        "\n",
        "By premultiplying with the inverse of $\\mathbf{\\Sigma}$, we obtain the\n",
        "optimal portfolio:\n",
        "\n",
        "$$\n",
        "\\mathbf{a} = \\frac{1}{\\lambda} \\mathbf{\\Sigma}^{-1}\\mathbf{\\mu} - \\mathbf{1}r)\n",
        "$$\n",
        "\n",
        "Note that this formula looks very similar to the formula for an optimal\n",
        "portfolio with only one asset:\n",
        "\n",
        "$$\n",
        "a = \\frac{(mu - r)}{\\pi \\sigma^2}\n",
        "$$\n",
        "\n",
        "In general, we may draw the same conclusions as in the case of one\n",
        "asset:\n",
        "\n",
        "1.  The more risk-averse the person is (large $\\pi$), the less they\n",
        "    should invest.\n",
        "2.  The larger the expected return the asset has, the more should be\n",
        "    invested.\n",
        "3.  The more risk is associated with the asset, the less should be\n",
        "    invested.\n",
        "\n",
        "# Empirical example\n",
        "\n",
        "Vi bruker scriptmuligheten i Titlon for å hente data"
      ],
      "id": "99623107-6917-412f-bca7-30327d32ca8b"
    },
    {
      "cell_type": "code",
      "execution_count": 13,
      "metadata": {
        "tags": []
      },
      "outputs": [
        {
          "output_type": "stream",
          "name": "stdout",
          "text": [
            "              Date  Internal code  SecurityId  CompanyId Symbol          ISIN  \\\n",
            "0       2019-07-12      2014128.0   1304857.0    12720.0   2020  BMG9156K1018   \n",
            "1       2019-07-15      2014128.0   1304857.0    12720.0   2020  BMG9156K1018   \n",
            "2       2019-07-16      2014128.0   1304857.0    12720.0   2020  BMG9156K1018   \n",
            "3       2019-07-17      2014128.0   1304857.0    12720.0   2020  BMG9156K1018   \n",
            "4       2019-07-18      2014128.0   1304857.0    12720.0   2020  BMG9156K1018   \n",
            "...            ...            ...         ...        ...    ...           ...   \n",
            "546507  2024-03-27      2014095.0         NaN        NaN   AASB  NO0010672181   \n",
            "546508  2024-03-28      2014095.0         NaN        NaN   AASB  NO0010672181   \n",
            "546509  2024-04-02      2014095.0         NaN        NaN   AASB  NO0010672181   \n",
            "546510  2024-04-03      2014095.0         NaN        NaN   AASB  NO0010672181   \n",
            "546511  2024-04-04      2014095.0         NaN        NaN   AASB  NO0010672181   \n",
            "\n",
            "                      Name  BestBidPrice  BestAskPrice    Open  ...  \\\n",
            "0             2020 Bulkers         82.05         83.00   87.20  ...   \n",
            "1             2020 Bulkers         80.05         81.00   83.00  ...   \n",
            "2             2020 Bulkers         80.55         81.00   81.00  ...   \n",
            "3             2020 Bulkers         80.40         81.00   81.00  ...   \n",
            "4             2020 Bulkers         77.40         80.00   80.01  ...   \n",
            "...                    ...           ...           ...     ...  ...   \n",
            "546507  AASEN SPAREBANK           121.00        118.00  121.00  ...   \n",
            "546508  AASEN SPAREBANK           123.00        118.00    0.00  ...   \n",
            "546509  AASEN SPAREBANK           119.00        118.30  121.00  ...   \n",
            "546510  AASEN SPAREBANK           123.00        119.00  119.00  ...   \n",
            "546511  AASEN SPAREBANK           121.00        119.22    0.00  ...   \n",
            "\n",
            "        NOWA_DayLnrate  bills_3month_Lnrate       Sector  IN_OSEBX  Equity  \\\n",
            "0             0.000056             0.000056  Industrials         0     NaN   \n",
            "1             0.000055             0.000056  Industrials         0     NaN   \n",
            "2             0.000055             0.000056  Industrials         0     NaN   \n",
            "3             0.000055             0.000056  Industrials         0     NaN   \n",
            "4             0.000056             0.000057  Industrials         0     NaN   \n",
            "...                ...                  ...          ...       ...     ...   \n",
            "546507        0.000196             0.000191   Financials         0     NaN   \n",
            "546508        0.000196             0.000191   Financials         0     NaN   \n",
            "546509        0.000196             0.000192   Financials         0     NaN   \n",
            "546510        0.000196             0.000192   Financials         0     NaN   \n",
            "546511        0.000196             0.000192   Financials         0     NaN   \n",
            "\n",
            "        Debt  Earnings  debt_ratio  PE       ID  \n",
            "0        NaN       NaN         NaN NaN  1402537  \n",
            "1        NaN       NaN         NaN NaN  1402664  \n",
            "2        NaN       NaN         NaN NaN  1402784  \n",
            "3        NaN       NaN         NaN NaN  1413127  \n",
            "4        NaN       NaN         NaN NaN  1413224  \n",
            "...      ...       ...         ...  ..      ...  \n",
            "546507   NaN       NaN         NaN NaN  1767510  \n",
            "546508   NaN       NaN         NaN NaN  1774640  \n",
            "546509   NaN       NaN         NaN NaN  1774810  \n",
            "546510   NaN       NaN         NaN NaN  1767992  \n",
            "546511   NaN       NaN         NaN NaN  1768158  \n",
            "\n",
            "[546512 rows x 48 columns]"
          ]
        }
      ],
      "source": [
        "import pandas as pd\n",
        "#Query script for Microsoft SQL Server (MSSQL) client\n",
        "import pymssql\n",
        "con = pymssql.connect(host='titlon.uit.no', \n",
        "                    user=\"esi000@uit.no\", \n",
        "                    password  = \"39oQ!Fjzpuh$OZ2FpewRp\",\n",
        "                    database='OSE')  \n",
        "crsr=con.cursor()\n",
        "crsr.execute(\"\"\"\n",
        "    SELECT  * FROM [OSE].[dbo].[equity] \n",
        "    WHERE year([Date]) >= 2016\n",
        "    ORDER BY [Name],[Date]\n",
        "\"\"\")\n",
        "r=crsr.fetchall()\n",
        "df=pd.DataFrame(list(r), columns=[i[0] for i in crsr.description])\n",
        "pd.to_pickle(df,'output/stocks.df')\n",
        "print(df)\n",
        "df = None\n",
        "\n",
        "\n",
        "#YOU NEED TO BE CONNECTED TO YOUR INSTITUTION VIA VPN, OR BE AT THE INSTITUTION, FOR THIS CODE TO WORK"
      ],
      "id": "4a87e02d"
    },
    {
      "cell_type": "markdown",
      "metadata": {},
      "source": [
        "## The portfolio front\n",
        "\n",
        "When the numnber of stocks becomes large, the chances that a few of them\n",
        "ar essentially identical risk-wise increases. Therefore, in this\n",
        "example, the dimension is reduced by the function\n",
        "`get_independent_portfolios`, in a way that we will come back to. In a\n",
        "very simplified way, a matrix R is computed, that is multiplied with\n",
        "both the mean vector and the covariance matrix.\n",
        "\n",
        "When that is done, we can calulate the optimal portfolio (C) and the\n",
        "portfolio front. The portfolio front is the minum variance given any\n",
        "level of return."
      ],
      "id": "7bcb8b42-cba2-4802-a0e2-31e1c2630192"
    },
    {
      "cell_type": "code",
      "execution_count": 14,
      "metadata": {},
      "outputs": [
        {
          "output_type": "stream",
          "name": "stderr",
          "text": [
            "C:\\Users\\esi000\\OneDrive - UiT Office 365\\Documents\\Undervisning\\SOK-3011\\uit-sok-3011-h24.github.io\\finans\\functions.py:18: FutureWarning: 'M' is deprecated and will be removed in a future version, please use 'ME' instead.\n",
            "  df_monthly = pivot_df.resample('M').sum()"
          ]
        },
        {
          "output_type": "display_data",
          "metadata": {},
          "data": {
            "image/png": "[encoded data removed]"
          }
        }
      ],
      "source": [
        "import functions\n",
        "import pandas\n",
        "import decomposition\n",
        "import numpy as np\n",
        "import pandas as pd\n",
        "import matplotlib.pyplot as plt\n",
        "\n",
        "MAX_AXIS = 0.2\n",
        "\n",
        "df = pd.read_pickle('output/stocks.df')\n",
        "# Defining risk free, cov matrix and mean vector\n",
        "rf = np.exp(0.2/12)-1#df['NOWA_DayLnrate'].mean()\n",
        "\n",
        "\n",
        "cov_matrix, means, df_month = functions.calc_moments(df)\n",
        "df = None\n",
        "\n",
        "# There are so many stocks, that many will be highly correlated \n",
        "# This creates a singular matrix (too few genuine equations)\n",
        "# It is therefore neccessary to do a little trick to reduce the \n",
        "# Number of dimensions. Multiplying the matrix and means with \n",
        "# R, reduces the dimension\n",
        "R = decomposition.get_independent_portfolios(cov_matrix, 0.00001)\n",
        "cov_matrix = R.T @ cov_matrix @ R\n",
        "means = R.T @ means\n",
        "\n",
        "# Create a vector of ones with the same length as the number of columns in the covariance matrix\n",
        "ones = np.ones(cov_matrix.shape[0])\n",
        "\n",
        "# Defining the sum of the covariance elements:\n",
        "A = np.dot(ones.T, np.dot(np.linalg.inv(cov_matrix), ones))\n",
        "\n",
        "# Defining the sum of the optimal portfolio, in order to \n",
        "# normalize the portfolio size to one\n",
        "B = np.dot(ones.T, np.dot(np.linalg.inv(cov_matrix), means-rf))\n",
        "\n",
        "# Calculating the un-normalized optimal portfolio:\n",
        "C = np.dot(means.T-rf, np.dot(np.linalg.inv(cov_matrix), means-rf))\n",
        "\n",
        "#Creating plot\n",
        "fig, ax = plt.subplots(figsize=(10, 6))\n",
        "\n",
        "# Setting the range of rp values and sigma values\n",
        "rp_values = np.linspace(0, MAX_AXIS, 100)\n",
        "\n",
        "\n",
        "# Calculate and plot sigma values for each rp\n",
        "sigma_values = 1/A + ((rp_values - abs(B)/A)**2) / (C - B**2/A)\n",
        "ax.plot(sigma_values**0.5, rp_values+rf, label='Efficient Frontier')\n",
        "\n",
        "# Calculate the tangency point of the normalized optimal \n",
        "# portfolio and plotting it\n",
        "tangency_rp = C/abs(B)\n",
        "tangency_sigma =  1/A + ((tangency_rp - abs(B)/A)**2) / (C - B**2/A)\n",
        "\n",
        "ax.plot(tangency_sigma**0.5, tangency_rp + rf, 'ro')\n",
        "\n",
        "# Plotting the portfolio front\n",
        "sigma_range = np.linspace(0, np.max(sigma_values**0.5), 100)\n",
        "ax.plot(sigma_range, rf + sigma_range*tangency_rp/tangency_sigma**0.5, color='r', linestyle='--', label='Tangency Point')\n",
        "\n",
        "# Setting the axis ranges, lables, title and legend:\n",
        "ax.set_xlim([0, np.max(sigma_values**0.5)])\n",
        "ax.set_ylim([0, np.max(rp_values)])\n",
        "ax.set_xlabel('Sigma (Risk)')\n",
        "ax.set_ylabel('Rp (Return)')\n",
        "ax.set_title('Efficient Frontier')\n",
        "ax.legend()"
      ],
      "id": "9ebbf174"
    }
  ],
  "nbformat": 4,
  "nbformat_minor": 5,
  "metadata": {
    "kernelspec": {
      "name": "python3",
      "display_name": "Python 3 (ipykernel)",
      "language": "python",
      "path": "C:"
    },
    "language_info": {
      "name": "python",
      "codemirror_mode": {
        "name": "ipython",
        "version": "3"
      },
      "file_extension": ".py",
      "mimetype": "text/x-python",
      "nbconvert_exporter": "python",
      "pygments_lexer": "ipython3",
      "version": "3.12.7"
    }
  }
}