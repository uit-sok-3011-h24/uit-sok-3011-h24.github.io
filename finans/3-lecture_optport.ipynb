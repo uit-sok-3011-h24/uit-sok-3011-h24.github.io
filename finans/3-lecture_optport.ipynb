{
 "cells": [
  {
   "cell_type": "markdown",
   "metadata": {},
   "source": [
    "---\n",
    "title: 3 - Optimal Portfolios and Matrices\"\n",
    "author: \"Espen Sirnes\"\n",
    "date: \"2024-9-18\"\n",
    "format:\n",
    "  pdf:\n",
    "    number-sections: true\n",
    "    geometry: [left=4cm, right=4cm, top=4cm, bottom=4cm]\n",
    "    fontsize: 12pt\n",
    "    fontfamily: times\n",
    "    monofont: \"Courier New\"\n",
    "    documentclass: article\n",
    "    toc: true\n",
    "    fig-cap: true\n",
    "    fig-pos: H\n",
    "    titlepage: true\n",
    "    titlepage-text-color: \"000000\"\n",
    "    titlepage-rule-color: \"000000\"\n",
    "    titlepage-rule-height: 2\n",
    "---\n",
    "\n",
    "This lecture explores the strategic behavior of an investor in the stock market, particularly under the assumption of risk aversion, as discussed in the previous note on utility theory. Risk lovers generally prefer the most risky assets, while risk-neutral investors opt for assets with the highest returns. In contrast, a risk-averse investor seeks to maximize returns without disproportionately increasing volatility, typically measured as variance.\n",
    "\n",
    "# Optimal Portfolio with One Asset\n",
    "\n",
    "Although it may seem unusual, we begin by considering a portfolio comprising a single asset, setting the stage for more complex scenarios involving multiple assets and matrix algebra.\n",
    "\n",
    "Assume the return on an asset next year, $x$, follows a normal distribution $N(mu, \\sigma^2)$, and let $r$ represent the risk-free interest rate. If investors must finance their entire investment through borrowing, the initial investment $a$ will accrue to $x$ next year, offset by interest expenses $ar$. The net value or wealth in the next period, $W_1$, is then given by:\n",
    "\n",
    "$$\n",
    "W_1 = a(x - r) \\label{WealthInv1}\n",
    "$$\n",
    "\n",
    "Considering an investor with a Constant Absolute Risk Aversion (CARA) utility function, the utility of $W_1$ is:\n",
    "\n",
    "$$\n",
    "u(W_1) = -e^{-\\pi W_1}\n",
    "$$\n",
    "\n",
    "where $\\pi$ is the CARA coefficient. Given that $W_1$ is a linear transformation of a normally distributed variable, it too follows a normal distribution. Consequently, $u(W_1)$ is log-normally distributed. This leads to the expected utility $U$ as:\n",
    "\n",
    "$$\n",
    "U = \\mathbb{E}[u(W_1)] = -e^{-\\pi \\mathbb{E}[W_1] - \\frac{\\pi}{2} \\text{var}(W_1)}  \\label{forvNytte}\n",
    "$$\n",
    "\n",
    "Key conclusions include:\n",
    "1. Increased uncertainty regarding future wealth ($\\text{var}(W_1)$) diminishes utility.\n",
    "2. Higher risk aversion ($\\pi$) amplifies the adverse impact of uncertainty.\n",
    "\n",
    "Calculating the expected wealth and its variance yields:\n",
    "\n",
    "$$\n",
    "\\mathbb{E}[W_1] = a \\cdot (mu - r)\n",
    "$$\n",
    "\n",
    "$$\n",
    "\\text{var}(W_1) = a^2 \\sigma^2\n",
    "$$\n",
    "\n",
    "To maximize expected utility, the investor solves:\n",
    "\n",
    "$$\n",
    "U = -e^{-\\pi (a \\cdot (mu - r) - \\frac{\\pi}{2} a^2 \\sigma^2)}\n",
    "$$\n",
    "\n",
    "w.r.t. $a$. Simplifying the utility function, we find that maximizing $U$ involves maximizing:\n",
    "\n",
    "$$\n",
    "\\max_{a} Z = a \\cdot (mu - r) - \\frac{\\pi}{2} a^2 \\sigma^2\n",
    "$$\n",
    "\n",
    "Taking the derivative with respect to $a$, setting it to zero, and solving the first-order condition gives the optimal investment amount:\n",
    "\n",
    "$$\n",
    "a = \\frac{(mu - r)}{\\pi \\sigma^2}  \\label{optPort1}\n",
    "$$\n",
    "\n",
    "*Problem: Show that the second-order condition for a maximum is satisfied.*\n",
    "\n",
    "From this, we conclude:\n",
    "1. Higher risk aversion leads to lesser investment.\n",
    "2. Greater expected returns encourage more investment.\n",
    "3. Increased risk ($\\sigma^2$) discourages investment.\n",
    "\n",
    "In the next lecture, we will extend these principles to portfolios with multiple assets using matrix algebra.\n",
    "\n",
    "# Matrices\n",
    "\n",
    "To calculate optimal portfolios for any number of assets, a basic understanding of matrix algebra is essential. Matrix algebra simplifies the resolution of several equations simultaneously, a process that becomes increasingly complex with the addition of variables. Using matrix functions in software like Excel and various statistical packages allows us to solve systems of equations efficiently without manually computing each one.\n",
    "\n",
    "Matrices not only streamline the computation but also simplify notation, making the formulation of equations for optimal portfolios more manageable.\n",
    "\n",
    "A matrix is a structured array of numbers arranged in rows and columns, essentially a set of vectors. Here's an example of a vector:"
   ]
  },
  {
   "cell_type": "code",
   "execution_count": null,
   "metadata": {},
   "outputs": [],
   "source": [
    "import numpy as np\n",
    "np.random.randint(0,100,3)"
   ]
  },
  {
   "cell_type": "markdown",
   "metadata": {},
   "source": [
    "Combining several vectors side-by-side forms a matrix:"
   ]
  },
  {
   "cell_type": "code",
   "execution_count": null,
   "metadata": {},
   "outputs": [],
   "source": [
    "np.random.randint(0,100,(2,3))"
   ]
  },
  {
   "cell_type": "markdown",
   "metadata": {},
   "source": [
    "This format is sometimes denoted as $\\mathbf{X}_{N \\times K}$ to indicate the number of rows ($N$) and columns ($K$).\n",
    "\n",
    "# Algebra with Matrices\n",
    "\n",
    "Matrix algebra operates under similar principles to ordinary algebra—allowing addition, subtraction, multiplication, and division (through inversion)—but it also requires adherence to specific rules.\n",
    "\n",
    "## Matrix Multiplication\n",
    "\n",
    "The core operation in matrix algebra is matrix multiplication, which combines elements from the rows of the first matrix with the columns of the second. For example, multiplying a $2 \\times 3$ matrix by a $3 \\times 2$ matrix yields:"
   ]
  },
  {
   "cell_type": "code",
   "execution_count": null,
   "metadata": {},
   "outputs": [],
   "source": [
    "X = np.random.randint(0,100,(2,3))\n",
    "Y = np.random.randint(0,100,(3,2))\n",
    "result = np.dot(X, Y)\n",
    "result"
   ]
  },
  {
   "cell_type": "markdown",
   "metadata": {},
   "source": [
    "Matrix multiplication requires the number of columns in the first matrix to match the number of rows in the second.\n",
    "\n",
    "\n",
    "## Adding and Subtracting Matrices\n",
    "\n",
    "Adding or subtracting matrices is straightforward; simply add or subtract corresponding elements:"
   ]
  },
  {
   "cell_type": "code",
   "execution_count": null,
   "metadata": {},
   "outputs": [],
   "source": [
    "import numpy as np\n",
    "\n",
    "X = np.random.randint(0,100,(2,2))\n",
    "Y = np.random.randint(0,100,(2,2))\n",
    "\n",
    "# Addition of matrices\n",
    "result_add = X + Y\n",
    "result_add"
   ]
  },
  {
   "cell_type": "markdown",
   "metadata": {},
   "source": [
    "## Dividing with a Matrix\n",
    "\n",
    "While direct division isn't defined in matrix operations, we can achieve a similar result by multiplying by the inverse of a matrix. The inverse of a matrix $\\mathbf{X}$, denoted $\\mathbf{X}^{-1}$, satisfies:\n",
    "\n",
    "$$\n",
    "\\mathbf{X} \\mathbf{X}^{-1} = \\mathbf{I} =\n",
    "\\begin{pmatrix}\n",
    "1 & 0 & \\cdots & 0 \\\\\n",
    "0 & 1 & \\cdots & 0 \\\\\n",
    "\\vdots & \\vdots & \\ddots & \\vdots \\\\\n",
    "0 & 0 & \\cdots & 1\n",
    "\\end{pmatrix}\n",
    "$$\n",
    "\n",
    "where $\\mathbf{I}$ is the identity matrix. Multiplying any matrix by $\\mathbf{I}$ results in the original matrix, akin to multiplying any number by 1.\n",
    "\n",
    "To solve the system of equations $\\mathbf{XA} = \\mathbf{B}$, we can multiply both sides by $\\mathbf{X}^{-1}$ to isolate $\\mathbf{A}$:\n",
    "\n",
    "$$\n",
    "\\mathbf{A} = \\mathbf{X}^{-1}\\mathbf{B}\n",
    "$$\n",
    "\n",
    "In practice, while the concept is straightforward, the actual calculation of a matrix inverse can become complex for larger matrices and is typically handled by computers."
   ]
  },
  {
   "cell_type": "code",
   "execution_count": null,
   "metadata": {},
   "outputs": [],
   "source": [
    "# Example of matrix inversion and solving the system\n",
    "B = np.random.randint(0,100,(3,1))\n",
    "X = np.random.randint(0,100,(3,3))\n",
    "# Calculating inverse of X\n",
    "X_inv = np.linalg.inv(X)\n",
    "\n",
    "# Solving for A\n",
    "A = np.dot(X_inv, B)\n",
    "A"
   ]
  },
  {
   "cell_type": "markdown",
   "metadata": {},
   "source": [
    "## Solving Equations with Matrix Algebra\n",
    "\n",
    "The foundation we've established for matrix algebra now allows us to efficiently solve systems of equations. Consider solving the following pair of simultaneous equations:\n",
    "\n",
    "$$\n",
    "x_{11}a_{1} + x_{12}a_{2} = b_{1} \\\\\n",
    "x_{21}a_{1} + x_{22}a_{2} = b_{2}\n",
    "$$\n",
    "\n",
    "Here, we know the values of $x$ and $b$ but need to find the values of $a$. These equations can be succinctly expressed using matrix notation:\n",
    "\n",
    "$$\n",
    "\\mathbf{Xa} = \\mathbf{b}\n",
    "$$\n",
    "\n",
    "where $\\mathbf{a}$ and $\\mathbf{b}$ are column vectors:"
   ]
  },
  {
   "cell_type": "code",
   "execution_count": null,
   "metadata": {},
   "outputs": [],
   "source": [
    "a =  np.random.randint(0,100,(2,1))\n",
    "b =  np.random.randint(0,100,(2,1))\n",
    "\n",
    "# Define matrix X\n",
    "X =  np.random.randint(0,100,(2,2))"
   ]
  },
  {
   "cell_type": "markdown",
   "metadata": {},
   "source": [
    "To solve for $\\mathbf{a}$, we use the inverse of $\\mathbf{X}$, provided it exists:\n",
    "\n",
    "$$\n",
    "\\mathbf{a} = \\mathbf{X}^{-1}\\mathbf{b}\n",
    "$$\n",
    "\n",
    "The inverse of $\\mathbf{X}$ is calculated as:\n",
    "\n",
    "$$\n",
    "\\mathbf{X}^{-1} =\n",
    "\\begin{pmatrix}\n",
    "\\frac{x_{22}}{x_{11}x_{22} - x_{12}x_{21}} & -\\frac{x_{12}}{x_{11}x_{22} - x_{12}x_{21}} \\\\\n",
    "-\\frac{x_{21}}{x_{11}x_{22} - x_{12}x_{21}} & \\frac{x_{11}}{x_{11}x_{22} - x_{12}x_{21}}\n",
    "\\end{pmatrix}\n",
    "$$"
   ]
  },
  {
   "cell_type": "code",
   "execution_count": null,
   "metadata": {},
   "outputs": [],
   "source": [
    "# Manually computing the inverse of X\n",
    "X = np.random.randint(0,100,(2,2))\n",
    "det = X[0,0]*X[1,1] - X[0,1]*X[1,0]\n",
    "X_inv_manual = [\n",
    "    [X[1,1]/det, -X[1,0]/det],\n",
    "     [ -X[0,1]/det, X[0,0]/det]\n",
    "]\n",
    "\n",
    "X_inv_manual"
   ]
  },
  {
   "cell_type": "markdown",
   "metadata": {},
   "source": [
    "This yields the solution:"
   ]
  },
  {
   "cell_type": "code",
   "execution_count": null,
   "metadata": {},
   "outputs": [],
   "source": [
    "# Solving for a using the inverse of X\n",
    "a_solution = np.dot(X_inv_manual, b)\n",
    "a_solution"
   ]
  },
  {
   "cell_type": "markdown",
   "metadata": {},
   "source": [
    "## Practical Example\n",
    "\n",
    "Let's consider a practical example:\n",
    "\n",
    "$$\n",
    "2a_1 + 5a_2 = 7\n",
    "$$\n",
    "$$\n",
    "3a_1 + a_2 = -2\n",
    "$$\n",
    "\n",
    "Here, $\\mathbf{X}$ and $\\mathbf{b}$ are:"
   ]
  },
  {
   "cell_type": "code",
   "execution_count": null,
   "metadata": {},
   "outputs": [],
   "source": [
    "# Practical example\n",
    "X_example = np.array([[2, 5], [3, 1]])\n",
    "b_example = np.array([[7], [-2]])\n",
    "\n",
    "# Solving for a using np.linalg.inv\n",
    "a_example_solution = np.dot(np.linalg.inv(X_example), b_example)\n",
    "a_example_solution"
   ]
  },
  {
   "cell_type": "markdown",
   "metadata": {},
   "source": [
    "Applying the inverse calculation:\n",
    "\n",
    "$$\n",
    "\\mathbf{a} = \\mathbf{X}^{-1}\\mathbf{b} =\n",
    "\\begin{pmatrix}\n",
    "-\\frac{1}{13} & \\frac{5}{13} \\\\\n",
    "\\frac{3}{13} & -\\frac{2}{13}\n",
    "\\end{pmatrix}\n",
    "\\begin{pmatrix}\n",
    "7 \\\\\n",
    "-2\n",
    "\\end{pmatrix} =\n",
    "\\begin{pmatrix}\n",
    "-\\frac{17}{13} \\\\\n",
    "\\frac{25}{13}\n",
    "\\end{pmatrix}\n",
    "$$\n",
    "\n",
    "**Problem: Verify that these calculations are correct.**\n",
    "\n",
    "This example illustrates how matrix algebra simplifies solving systems of equations, especially when using software tools that can handle large systems effortlessly.\n",
    "\n",
    "## Transposing\n",
    "\n",
    "Transposing a matrix involves swapping its rows and columns. For example, a $2 \\times 3$ matrix:\n",
    "\n",
    "$$\n",
    "\\mathbf{X}_{2 \\times 3} =\n",
    "\\begin{pmatrix}\n",
    "x_{11} & x_{12} & x_{13} \\\\\n",
    "x_{21} & x_{22} & x_{23}\n",
    "\\end{pmatrix}\n",
    "$$\n",
    "\n",
    "transposes to:\n",
    "\n",
    "$$\n",
    "\\mathbf{X}_{2 \\times 3}^{\\prime} =\n",
    "\\begin{pmatrix}\n",
    "x_{11} & x_{21} \\\\\n",
    "x_{12} & x_{22} \\\\\n",
    "x_{13} & x_{23}\n",
    "\\end{pmatrix}\n",
    "$$\n",
    "\n",
    "where $^{\\prime}$ denotes the transposed matrix. For a column vector $\\mathbf{a}$, transposing and then multiplying by itself, $\\mathbf{a}^{\\prime} \\mathbf{a}$, calculates the sum of squares of its components."
   ]
  },
  {
   "cell_type": "code",
   "execution_count": null,
   "metadata": {},
   "outputs": [],
   "source": [
    "# Example of matrix transposition\n",
    "X_2x3 = np.random.randint(0,100,(2,3))\n",
    "X_transposed = X_2x3.T\n",
    "X_transposed"
   ]
  },
  {
   "cell_type": "markdown",
   "metadata": {},
   "source": [
    "Transposition is often used to conform to the requirements of matrix multiplication, where the number of columns in the first matrix must match the number of rows in the second. If this is not the case, one might transpose the first matrix to facilitate multiplication.\n",
    "\n",
    "# Calculus and matrices\n",
    "\n",
    "Deriving matrices follows similar principles to deriving polynomials. For instance:\n",
    "\n",
    "$$\n",
    "\\frac{d\\left( a^{2} \\sigma^{2} \\right)}{da} = 2a \\sigma^{2}\n",
    "$$\n",
    "\n",
    "applies to scalar variables, and for a matrix $\\mathbf{\\Sigma}$ and a column vector $\\mathbf{a}$, we have:\n",
    "\n",
    "$$\n",
    "\\frac{d\\left( \\mathbf{a}^{\\prime} \\mathbf{\\Sigma} \\mathbf{a} \\right)}{d \\mathbf{a}^{\\prime}} = 2 \\mathbf{\\Sigma} \\mathbf{a}\n",
    "$$\n",
    "\n",
    "assuming $\\mathbf{\\Sigma}$ is symmetric."
   ]
  },
  {
   "cell_type": "code",
   "execution_count": null,
   "metadata": {},
   "outputs": [],
   "source": [
    "# Derivation with matrix and vector\n",
    "a = np.random.randint(0,100,(2,1))\n",
    "Sigma = np.random.randint(0,100,(2,2))\n",
    "\n",
    "# Derivative of a' Σ a with respect to a\n",
    "derivative = 2 * np.dot(Sigma, a)\n",
    "derivative"
   ]
  },
  {
   "cell_type": "markdown",
   "metadata": {},
   "source": [
    "For a scalar equivalent in a matrix form:\n",
    "\n",
    "$$\n",
    "\\mathbf{a}^{\\prime} \\mathbf{\\Sigma} \\mathbf{a} = \\sum_{j=1}^{N} a_j \\left( \\sum_{i=1}^{N} a_i \\sigma_{ij} \\right)\n",
    "$$\n",
    "\n",
    "transforms into a vector of derivatives of $\\mathbf{a}^{\\prime} \\mathbf{\\Sigma} \\mathbf{a}$ concerning each element $a_i$, simplifying to:\n",
    "\n",
    "$$\n",
    "\\frac{d\\left( \\mathbf{a}^{\\prime} \\mathbf{\\Sigma} \\mathbf{a} \\right)}{d \\mathbf{a}^{\\prime}} = 2 \\mathbf{\\Sigma} \\mathbf{a}\n",
    "$$\n",
    "\n",
    "\n",
    "# Optimal portfolios with more than one asset\n",
    "\n",
    "\n",
    "We remember from above that the optimal portfolio with only one asset is \n",
    "\n",
    "$$\n",
    "a=\\frac{(mu -r)}{\\pi \\sigma^2}  \\label{optPort1}\n",
    "$$\n",
    "\n",
    "From this we concluded that:\n",
    "\n",
    "1. The more risk-averse the person is, the less they should invest.\n",
    "2. The larger the expected return of the asset, the more should be invested.\n",
    "3. The greater the risk associated with the asset, represented by $\\sigma^2$, the less should be invested.\n",
    "\n",
    "Now, let us consider the optimal investments if we have more than one asset.\n",
    "\n",
    "## Optimal Portfolios with Any Number of Assets\n",
    "\n",
    "Let us now assume that the investor in the previous section has a portfolio of $K$ assets, not just one. Their wealth next period, assuming the entire amount is borrowed, is then expressed in matrix notation as:\n",
    "\n",
    "$$\n",
    "W_1 = \\mathbf{a}'\\mathbf{x} - \\mathbf{1}r)\n",
    "$$\n",
    "\n",
    "where $\\mathbf{a}$ represents the portfolio weights, $\\mathbf{x}$ represents the returns, and $\\mathbf{1}$ is a column vector of ones, such that $\\mathbf{1}r$ is a column vector of the risk-free interest rate $r$. Recall from earlier that the investor aims to maximize the difference between expected return and variance:\n",
    "\n",
    "$$\n",
    "\\max_{\\mathbf{a}} Z = \\mathbb{E}W_1 - \\pi \\frac{1}{2} \\operatorname{var}(W_1)  \\label{MaxMatrix}\n",
    "$$\n",
    "\n",
    "$\\mathbf{x}$ now is a column vector of many normally distributed variables with different variances and expectations. We denote the expected returns by $\\mu_i$ for asset $i$, and the associated vector of these returns by $\\mathbf{\\mu}$. The expected return on the portfolio then becomes:\n",
    "\n",
    "$$\n",
    "\\mathbb{E}W_1 = \\mathbf{a}'\\mathbb{E}\\mathbf{x} = \\mathbf{a}\\mathbf{\\mu} - \\mathbf{1}r)\n",
    "$$\n",
    "\n",
    "Thus, $\\mathbb{E}W_1 = \\sum_{i=1}^{K} a_i \\mu_i$.\n",
    "\n",
    "For variance:"
   ]
  },
  {
   "cell_type": "code",
   "execution_count": null,
   "metadata": {},
   "outputs": [],
   "source": [
    "import numpy as np\n",
    "\n",
    "# Example matrices for portfolio variance\n",
    "a = np.random.randint(0,100,(2,1)) # Portfolio weights\n",
    "mu = np.random.randint(0,100,(2,1))  # Expected returns\n",
    "r = 0.05  # Risk-free rate\n",
    "\n",
    "Sigma = np.random.randint(0,100,(2,2))  # Covariance matrix\n",
    "\n",
    "# Calculating portfolio variance\n",
    "variance_W1 = np.dot(np.dot(a.T, Sigma), a)\n",
    "variance_W1"
   ]
  },
  {
   "cell_type": "markdown",
   "metadata": {},
   "source": [
    "Where $\\sigma_{ij}$ is the covariance between $i$ and $j$, and $\\sigma_i^2$ is the variance of asset $i$. This is the covariance matrix, denoted by the capital sigma, $\\mathbf{\\Sigma}$.\n",
    "\n",
    "When a vector is normally distributed we write it as $\\mathbf{x} \\sim K\\mathbf{\\mu}, \\mathbf{\\Sigma})$.\n",
    "\n",
    "We have now found expressions for $\\mathbb{E}W_1$ and $\\operatorname{var}(W_1)$ in matrix notation. We can thus write:\n",
    "\n",
    "$$\n",
    "\\max_{\\mathbf{a}} Z = \\mathbf{a}(\\mathbf{\\mu} - \\mathbf{1}r) - \\pi \\frac{1}{2} \\mathbf{a}'\\mathbf{\\Sigma a}\n",
    "$$\n",
    "\n",
    "Taking the derivative with respect to $\\mathbf{a}'$ yields the $K$ first order conditions:\n",
    "\n",
    "$$\n",
    "\\frac{dZ}{d\\mathbf{a}} = (\\mathbf{\\mu} - \\mathbf{1}r) - \\pi \\mathbf{\\Sigma a} = 0\n",
    "$$\n",
    "\n",
    "In optimum, it is necessary that:\n",
    "\n",
    "$$\n",
    "\\mathbf{\\Sigma a} = \\frac{1}{\\pi}\\mathbf{\\mu} - \\mathbf{1}r)\n",
    "$$\n",
    "\n",
    "By premultiplying with the inverse of $\\mathbf{\\Sigma}$, we obtain the optimal portfolio:\n",
    "\n",
    "$$\n",
    "\\mathbf{a} = \\frac{1}{\\pi} \\mathbf{\\Sigma}^{-1}\\mathbf{\\mu} - \\mathbf{1}r)\n",
    "$$"
   ]
  },
  {
   "cell_type": "code",
   "execution_count": null,
   "metadata": {},
   "outputs": [],
   "source": [
    "# Example of calculating the optimal portfolio\n",
    "inv_Sigma = np.linalg.inv(Sigma)\n",
    "optimal_a =  np.dot(inv_Sigma, (mu - r))\n",
    "optimal_a"
   ]
  },
  {
   "cell_type": "markdown",
   "metadata": {},
   "source": [
    "Note that this formula looks very similar to the formula for an optimal portfolio with only one asset:\n",
    "\n",
    "$$\n",
    "a = \\frac{(mu - r)}{\\pi \\sigma^2}\n",
    "$$\n",
    "\n",
    "In general, we may draw the same conclusions as in the case of one asset:\n",
    "\n",
    "1. The more risk-averse the person is (large $\\pi$), the less they should invest.\n",
    "2. The larger the expected return the asset has, the more should be invested.\n",
    "3. The more risk is associated with the asset, the less should be invested.\n",
    "\n",
    "## An Example\n",
    "\n",
    "Let us take an example with two assets, where the variance and expected return over the risk-free interest rate are given by:"
   ]
  },
  {
   "cell_type": "code",
   "execution_count": null,
   "metadata": {},
   "outputs": [],
   "source": [
    "# Example covariance matrix and expected returns over risk-free rate\n",
    "Sigma_example = np.random.randint(0,100,(2,2))\n",
    "mu_minus_r = np.random.randint(0,100,(2,1))-r\n",
    "\n",
    "# Optimal portfolio for two assets\n",
    "optimal_portfolio =  np.dot(np.linalg.inv(Sigma_example), mu_minus_r)\n",
    "optimal_portfolio"
   ]
  },
  {
   "cell_type": "markdown",
   "metadata": {},
   "source": [
    "The optimal portfolio is then:\n",
    "\n",
    "$$\n",
    "\\mathbf{a} = \\frac{1}{\\pi} \\mathbf{\\Sigma}^{-1} \\mathbf{\\mu} - \\mathbf{1}r)\n",
    "$$\n",
    "\n",
    "This is the portfolio a CARA-investor with a CARA coefficient $\\pi$ would choose. With this type of utility function, the invested amount is independent of wealth.\n",
    "\n",
    "An important result within portfolio theory is that a \"mean-variance\" optimal portfolio has the same composition regardless of the amount invested, and regardless of the utility function, as long as only expected return and variance matter. To express the portfolio more generally, it is useful to normalize it so that the weights $\\mathbf{a}$ sum up to one. This may be done as follows:\n",
    "\n",
    "$$\n",
    "\\mathbf{\\tilde{a}} = \\frac{\\mathbf{a}}{\\mathbf{1}' \\mathbf{a}} = \n",
    "\\begin{pmatrix}\n",
    "\\frac{(r_1 - r_f) \\sigma_2^2 - (r_2 - r_f) \\sigma_{12}}{(r_1 - r_f) \\sigma_2^2 + (r_2 - r_f) \\sigma_1^2 - (r_1 + r_2 - 2r_f) \\sigma_{12}} \\\\ \n",
    "\\frac{(r_2 - r_f) \\sigma_1^2 - (r_1 - r_f) \\sigma_{12}}{(r_1 - r_f) \\sigma_2^2 + (r_2 - r_f) \\sigma_1^2 - (r_1 + r_2 - 2r_f) \\sigma_{12}}\n",
    "\\end{pmatrix}\n",
    "\\label{equation:optimal_port}\n",
    "$$\n",
    "\n",
    "# Portfolio Front\n",
    "\n",
    "An example of this portfolio, with given parameters, is shown in Figure \\ref{fig:opt-port}."
   ]
  },
  {
   "cell_type": "code",
   "execution_count": null,
   "metadata": {},
   "outputs": [],
   "source": [
    "#Examaple here"
   ]
  },
  {
   "cell_type": "markdown",
   "metadata": {},
   "source": [
    "Along the curved line are all the combinations of portfolio weights with the resulting expected return along the y-axis and standard deviation along the x-axis.\n",
    "\n",
    "The investor can therefore not choose any combination of risk and return, but must choose a combination that is on the portfolio front. However, one can choose to invest everything in the bank at zero risk with a 5% interest rate. If we combine this with the point on the front that gives the highest return for the least amount of variance, we obtain the straight line. This line provides the maximum trade-off between return and variance for different levels of investment.\n",
    "\n",
    "Points on the straight line to the left of the tangent point represent an investor who puts some of his wealth in the bank. Points to the right of the tangent point represent an investor who borrows to finance assets."
   ]
  }
 ],
 "metadata": {
  "kernelspec": {
   "display_name": "Python 3 (ipykernel)",
   "language": "python",
   "name": "python3"
  },
  "language_info": {
   "codemirror_mode": {
    "name": "ipython",
    "version": 3
   },
   "file_extension": ".py",
   "mimetype": "text/x-python",
   "name": "python",
   "nbconvert_exporter": "python",
   "pygments_lexer": "ipython3",
   "version": "3.11.9"
  }
 },
 "nbformat": 4,
 "nbformat_minor": 4
}
