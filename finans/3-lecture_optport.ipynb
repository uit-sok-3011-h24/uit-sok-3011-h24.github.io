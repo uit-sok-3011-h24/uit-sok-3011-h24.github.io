{
  "cells": [
    {
      "cell_type": "markdown",
      "id": "a2a6574f-e0fa-4dfb-a437-5d995bad740a",
      "metadata": {},
      "source": [
        "# 3 - Matrices, Optimal Portfolios\n",
        "\n",
        "Espen Sirnes  \n",
        "2024-09-18\n",
        "\n",
        "This lecture explores the strategic behavior of an investor in the stock\n",
        "market, particularly under the assumption of risk aversion, as discussed\n",
        "in the previous note on utility theory. Risk lovers generally prefer the\n",
        "most risky assets, while risk-neutral investors opt for assets with the\n",
        "highest returns. In contrast, a risk-averse investor seeks to maximize\n",
        "returns without disproportionately increasing volatility, typically\n",
        "measured as variance.\n",
        "\n",
        "# Matrices\n",
        "\n",
        "To calculate optimal portfolios for any number of assets, a basic\n",
        "understanding of matrix algebra is essential. Matrix algebra simplifies\n",
        "the resolution of several equations simultaneously, a process that\n",
        "becomes increasingly complex with the addition of variables. Using\n",
        "matrix functions in software like Excel and various statistical packages\n",
        "allows us to solve systems of equations efficiently without manually\n",
        "computing each one.\n",
        "\n",
        "Matrices not only streamline the computation but also simplify notation,\n",
        "making the formulation of equations for optimal portfolios more\n",
        "manageable.\n",
        "\n",
        "A matrix is a structured array of numbers arranged in rows and columns,\n",
        "essentially a set of vectors. Here’s an example of a vector:"
      ]
    },
    {
      "cell_type": "code",
      "execution_count": 1,
      "id": "7b69a33f",
      "metadata": {},
      "outputs": [
        {
          "data": {
            "text/plain": [
              "array([90, 50, 57])"
            ]
          },
          "metadata": {},
          "output_type": "display_data"
        }
      ],
      "source": [
        "import numpy as np\n",
        "np.random.randint(0,100,3)"
      ]
    },
    {
      "cell_type": "markdown",
      "id": "7d029aa4-17ce-4446-9fe2-a33c075fad2b",
      "metadata": {},
      "source": [
        "Combining several vectors side-by-side forms a matrix:"
      ]
    },
    {
      "cell_type": "code",
      "execution_count": 2,
      "id": "cac2c872",
      "metadata": {},
      "outputs": [
        {
          "data": {
            "text/plain": [
              "array([[22, 60, 54],\n",
              "       [69, 31, 82]])"
            ]
          },
          "metadata": {},
          "output_type": "display_data"
        }
      ],
      "source": [
        "np.random.randint(0,100,(2,3))"
      ]
    },
    {
      "cell_type": "markdown",
      "id": "f1e5afe2-a9fa-4054-aca0-713cbffc2f59",
      "metadata": {},
      "source": [
        "This format is sometimes denoted as $\\mathbf{X}_{N \\times K}$ to\n",
        "indicate the number of rows ($N$) and columns ($K$).\n",
        "\n",
        "# Algebra with Matrices\n",
        "\n",
        "Matrix algebra operates under similar principles to ordinary\n",
        "algebra—allowing addition, subtraction, multiplication, and division\n",
        "(through inversion)—but it also requires adherence to specific rules.\n",
        "\n",
        "## Matrix Multiplication\n",
        "\n",
        "The core operation in matrix algebra is matrix multiplication, which\n",
        "combines elements from the rows of the first matrix with the columns of\n",
        "the second. For example, multiplying a $2 \\times 3$ matrix by a\n",
        "$3 \\times 2$ matrix yields:"
      ]
    },
    {
      "cell_type": "code",
      "execution_count": 3,
      "id": "674bc4b4",
      "metadata": {},
      "outputs": [
        {
          "name": "stdout",
          "output_type": "stream",
          "text": [
            "[[3 1 1]\n",
            " [0 2 4]]\n",
            "[[0 2]\n",
            " [1 0]\n",
            " [2 4]]\n",
            "[[ 3 10]\n",
            " [10 16]]"
          ]
        }
      ],
      "source": [
        "X = np.random.randint(0,5,(2,3))\n",
        "Y = np.random.randint(0,5,(3,2))\n",
        "result = X @ Y\n",
        "print(X)\n",
        "print(Y)\n",
        "print(result)"
      ]
    },
    {
      "attachments": {
        "img/multrule.png": {
          "image/png": "[encoded data removed]"
        }
      },
      "cell_type": "markdown",
      "id": "0ff8b98a-730d-4333-965f-072e801c093a",
      "metadata": {},
      "source": [
        "What happens is that we sum the product of the elements in each row of\n",
        "the first matrix and each column of the second. You can for example\n",
        "check that element \\[0,0\\] of the result is the sum of the product of\n",
        "the first row of the first matrix, and the first column of the second.\n",
        "An easy way to remember this is to think of the multiplication of\n",
        "$A \\times B$ is to follow the lines of the letters: ![multiplication\n",
        "rule](attachment:img/multrule.png \"Muliplication rule\")\n",
        "\n",
        "Due to the rules for matrix multiplication, it requires the number of\n",
        "columns in the first matrix to match the number of rows in the second.\n",
        "\n",
        "The matrix multiplication is different from the normal multiplication in\n",
        "Python. Normal multiplicaiton can be done with the normal multiplication\n",
        "operator `*`. It will then multiply each element in X with the\n",
        "corresponding element of Y, and both matrices must be of the same size:"
      ]
    },
    {
      "cell_type": "code",
      "execution_count": 4,
      "id": "351bc09c",
      "metadata": {},
      "outputs": [
        {
          "name": "stdout",
          "output_type": "stream",
          "text": [
            "[[3 0 1]\n",
            " [4 3 4]]\n",
            "[[2 4 0]\n",
            " [2 2 4]]\n",
            "[[ 6  0  0]\n",
            " [ 8  6 16]]"
          ]
        }
      ],
      "source": [
        "X = np.random.randint(0,5,(2,3))\n",
        "Y = np.random.randint(0,5,(2,3))\n",
        "result = X*Y\n",
        "print(X)\n",
        "print(Y)\n",
        "print(result)"
      ]
    },
    {
      "cell_type": "markdown",
      "id": "76f913be-9072-4876-ab57-eb812279bf8f",
      "metadata": {},
      "source": [
        "The reason for using the former method, is that the former is required\n",
        "for solving sets of equations.\n",
        "\n",
        "## Adding and Subtracting Matrices\n",
        "\n",
        "Adding or subtracting matrices is straightforward; simply add or\n",
        "subtract corresponding elements. In Python, the multiplication requires\n",
        "numpy function, but if the matrices are numpy variables, subtraction and\n",
        "addition can be done with the normal operators."
      ]
    },
    {
      "cell_type": "code",
      "execution_count": 5,
      "id": "269973fc",
      "metadata": {},
      "outputs": [
        {
          "name": "stdout",
          "output_type": "stream",
          "text": [
            "[[48 22]\n",
            " [87 27]]\n",
            "[[33 44]\n",
            " [49 38]]\n",
            "[[ 81  66]\n",
            " [136  65]]"
          ]
        }
      ],
      "source": [
        "import numpy as np\n",
        "\n",
        "X = np.random.randint(0,100,(2,2))\n",
        "Y = np.random.randint(0,100,(2,2))\n",
        "\n",
        "# Addition of matrices\n",
        "result_add = X + Y\n",
        "print(X)\n",
        "print(Y)\n",
        "print(result_add)"
      ]
    },
    {
      "cell_type": "markdown",
      "id": "31044bec-5869-4d18-852f-75d1f1d7a69d",
      "metadata": {},
      "source": [
        "## Dividing with a Matrix\n",
        "\n",
        "While direct division isn’t defined in matrix operations, we can achieve\n",
        "a similar result by multiplying by the inverse of a matrix. The inverse\n",
        "of a matrix $\\mathbf{X}$, denoted $\\mathbf{X}^{-1}$, satisfies:\n",
        "\n",
        "$$\n",
        "\\mathbf{X} \\times \\mathbf{X}^{-1} = \\mathbf{I} =\n",
        "\\begin{pmatrix}\n",
        "1 & 0 & \\cdots & 0 \\\\\n",
        "0 & 1 & \\cdots & 0 \\\\\n",
        "\\vdots & \\vdots & \\ddots & \\vdots \\\\\n",
        "0 & 0 & \\cdots & 1\n",
        "\\end{pmatrix}\n",
        "$$\n",
        "\n",
        "where $\\mathbf{I}$ is the identity matrix. Multiplying any matrix by\n",
        "$\\mathbf{I}$ results in the original matrix, akin to multiplying any\n",
        "number by 1.\n",
        "\n",
        "In practice, while the concept is straightforward, the actual\n",
        "calculation of a matrix inverse can become complex for larger matrices\n",
        "and is typically handled by computers. We will not go through the method\n",
        "of obtaining the inverse in this course, we will in stead just utilize\n",
        "the numpy funciton for calculating the inverse. Specifically, we use\n",
        "`np.linalg.inv(X)`. We can check that it actually complies with the\n",
        "definition like this:"
      ]
    },
    {
      "cell_type": "code",
      "execution_count": 6,
      "id": "58d0cc4c",
      "metadata": {},
      "outputs": [],
      "source": [
        "X = np.random.randint(0,10,(3,3))\n",
        "# Calculating inverse of X\n",
        "X_inv = np.linalg.inv(X)\n",
        "\n",
        "# Testing\n",
        "np.round(X_inv @ X,1)"
      ]
    },
    {
      "cell_type": "markdown",
      "id": "b46f09c2-f11d-42ca-b9dd-280f454afa2d",
      "metadata": {},
      "source": [
        "## Solving Equations with Matrix Algebra\n",
        "\n",
        "The foundation we’ve established for matrix algebra now allows us to\n",
        "efficiently solve systems of equations. Consider solving the following\n",
        "pair of simultaneous equations:\n",
        "\n",
        "$$\n",
        "x_{11}a_{1} + x_{12}a_{2} = b_{1} \\\\\n",
        "x_{21}a_{1} + x_{22}a_{2} = b_{2}\n",
        "$$\n",
        "\n",
        "Here, we know the values of $x$ and $b$ but need to find the values of\n",
        "$a$. These equations can be succinctly expressed using matrix notation:\n",
        "\n",
        "where $\\mathbf{a}$ and $\\mathbf{b}$ are column vectors. Let us define\n",
        "the right hand side vector `b` and the coeficient matrix `X` randomly in\n",
        "python as"
      ]
    },
    {
      "cell_type": "code",
      "execution_count": 7,
      "id": "de44fe58",
      "metadata": {},
      "outputs": [
        {
          "name": "stdout",
          "output_type": "stream",
          "text": [
            "[[15 37]\n",
            " [15 28]]\n",
            "[[35]\n",
            " [91]]"
          ]
        }
      ],
      "source": [
        "b =  np.random.randint(0,100,(2,1))\n",
        "# Define matrix X\n",
        "X =  np.random.randint(0,100,(2,2))\n",
        "print(X)\n",
        "print(b)"
      ]
    },
    {
      "cell_type": "markdown",
      "id": "09d56573-82bd-4fac-916e-368076420dc3",
      "metadata": {},
      "source": [
        "To solve for $\\mathbf{a}$, we use the inverse of $\\mathbf{X}$, provided\n",
        "it exists, and multiplies it with the left and right hand sides of the\n",
        "equation, just as we would divide with X on both sides to solve for a\n",
        "single equation:\n",
        "\n",
        "$$\n",
        "\\mathbf{X}^{-1} \\times \\mathbf{X} \\times \\mathbf{a} = \\mathbf{X}^{-1}\\mathbf{b}\n",
        "$$\n",
        "\n",
        "Since we know that $\\mathbf{X}^{-1}$ is the solution to\n",
        "$\\mathbf{X}^{-1} \\times \\mathbf{X} = \\mathbf{I}$, premultiplying with\n",
        "$\\mathbf{X}^{-1}$ yields:\n",
        "\n",
        "$$\n",
        "\\mathbf{a} = \\mathbf{X}^{-1}\\mathbf{b}\n",
        "$$\n",
        "\n",
        "Hence, we have found an easy way to solve any linear equation. We can\n",
        "test that it works in python. Let us first find `a` using this approach:"
      ]
    },
    {
      "cell_type": "code",
      "execution_count": 8,
      "id": "f16ff29c",
      "metadata": {},
      "outputs": [
        {
          "data": {
            "text/plain": [
              "array([[17.68148148],\n",
              "       [-6.22222222]])"
            ]
          },
          "metadata": {},
          "output_type": "display_data"
        }
      ],
      "source": [
        "a = np.linalg.inv(X) @ b\n",
        "a"
      ]
    },
    {
      "cell_type": "markdown",
      "id": "efb722ec-e201-4e98-9b3e-0258251449b1",
      "metadata": {},
      "source": [
        "If you get a “Singular matrix” error its because we are generating `X`\n",
        "with a few random integers, which sometimes creates unsolvable systems,\n",
        "so just generate `X` and `b` again.\n",
        "\n",
        "Now we can test, if the solution for a actually works, by applying it on\n",
        "the original equation $\\mathbf{X \\times a} = \\mathbf{b}$. This should\n",
        "yield the right hand side of th equation, `b`:"
      ]
    },
    {
      "cell_type": "code",
      "execution_count": 9,
      "id": "b3eef353",
      "metadata": {},
      "outputs": [
        {
          "data": {
            "text/plain": [
              "array([[35.],\n",
              "       [91.]])"
            ]
          },
          "metadata": {},
          "output_type": "display_data"
        }
      ],
      "source": [
        "X @ a"
      ]
    },
    {
      "cell_type": "markdown",
      "id": "23a2dd90-4e06-4842-bb23-eccc81264abf",
      "metadata": {},
      "source": [
        "Compare this with the actual `b`:"
      ]
    },
    {
      "cell_type": "code",
      "execution_count": 10,
      "id": "ec114266",
      "metadata": {},
      "outputs": [
        {
          "data": {
            "text/plain": [
              "array([[35],\n",
              "       [91]])"
            ]
          },
          "metadata": {},
          "output_type": "display_data"
        }
      ],
      "source": [
        "b"
      ]
    },
    {
      "cell_type": "markdown",
      "id": "01a29e9d-be36-4801-9f3e-88fcd7354743",
      "metadata": {},
      "source": [
        "Thus, we have identified an effective method to solve any system of\n",
        "equations, provided that $\\mathbf{X}$ is invertible. If $\\mathbf{X}$\n",
        "cannot be inverted, it indicates that two or more equations are\n",
        "essentially identical, leading to an “underdetermined” system. In such\n",
        "cases, some equations are redundant, and there are not enough\n",
        "independent equations to determine the values of all variables. Remember\n",
        "the fundamental rule: we need an equal number of equations and unknowns\n",
        "to uniquely solve for each variable.\n",
        "\n",
        "## Transposing\n",
        "\n",
        "Transposing a matrix involves swapping its rows and columns. For\n",
        "example, a $2 \\times 3$ matrix:\n",
        "\n",
        "$$\n",
        "\\mathbf{X}_{2 \\times 3} =\n",
        "\\begin{pmatrix}\n",
        "x_{11} & x_{12} & x_{13} \\\\\n",
        "x_{21} & x_{22} & x_{23}\n",
        "\\end{pmatrix}\n",
        "$$\n",
        "\n",
        "transposes to:\n",
        "\n",
        "$$\n",
        "\\mathbf{X}_{2 \\times 3}^{\\prime} =\n",
        "\\begin{pmatrix}\n",
        "x_{11} & x_{21} \\\\\n",
        "x_{12} & x_{22} \\\\\n",
        "x_{13} & x_{23}\n",
        "\\end{pmatrix}\n",
        "$$\n",
        "\n",
        "where $^{\\prime}$ denotes the transposed matrix. For a column vector\n",
        "$\\mathbf{a}$, transposing and then multiplying by itself,\n",
        "$\\mathbf{a}^{\\prime}\\mathbf{a}$, calculates the sum of squares of its\n",
        "components."
      ]
    },
    {
      "cell_type": "code",
      "execution_count": 11,
      "id": "f61bc227",
      "metadata": {},
      "outputs": [
        {
          "data": {
            "text/plain": [
              "array([[53, 74],\n",
              "       [29, 13],\n",
              "       [35, 92]])"
            ]
          },
          "metadata": {},
          "output_type": "display_data"
        }
      ],
      "source": [
        "# Example of matrix transposition\n",
        "X_2x3 = np.random.randint(0,100,(2,3))\n",
        "X_transposed = X_2x3.T\n",
        "X_transposed"
      ]
    },
    {
      "cell_type": "markdown",
      "id": "53929aaa-9222-4738-ab99-e219df10de68",
      "metadata": {},
      "source": [
        "Transposition is often used to conform to the requirements of matrix\n",
        "multiplication, where the number of columns in the first matrix must\n",
        "match the number of rows in the second. If this is not the case, one\n",
        "might transpose the first matrix to facilitate multiplication.\n",
        "\n",
        "# Calculus and matrices\n",
        "\n",
        "Deriving matrices follows similar principles to deriving polynomials.\n",
        "For instance:\n",
        "\n",
        "$$\n",
        "\\frac{d\\left( a^{2} \\sigma^{2} \\right)}{da} = 2a \\sigma^{2}\n",
        "$$\n",
        "\n",
        "applies to scalar variables, and for a matrix $\\Sigma$ and a column\n",
        "vector $\\mathbf{a}$, we have:\n",
        "\n",
        "$$\n",
        "\\frac{d\\left(\\mathbf{a}^{\\prime}{\\Sigma}\\mathbf{a}\\right)}{d\\mathbf{a}^{\\prime}} =2{\\Sigma}\\mathbf{a}\n",
        "$$\n",
        "\n",
        "assuming ${\\Sigma}$ is symmetric. In practical terms, the derivative\n",
        "with respect to `a` here, given some values for `a`, is"
      ]
    },
    {
      "cell_type": "code",
      "execution_count": 12,
      "id": "d7f710e1",
      "metadata": {},
      "outputs": [
        {
          "data": {
            "text/plain": [
              "array([[11784],\n",
              "       [20136]])"
            ]
          },
          "metadata": {},
          "output_type": "display_data"
        }
      ],
      "source": [
        "# Derivation with matrix and vector\n",
        "a = np.random.randint(0,100,(2,1))\n",
        "Sigma = np.random.randint(0,100,(2,2))\n",
        "\n",
        "# Derivative of a' Sigma a with respect to a\n",
        "derivative = 2 * Sigma @ a\n",
        "derivative"
      ]
    },
    {
      "cell_type": "markdown",
      "id": "e4197273-efec-47aa-998c-d464f00853e2",
      "metadata": {},
      "source": [
        "We can rewrite the matrix formulation in scalar form, to check that the\n",
        "rule is correct. The scalar form of\n",
        "$\\mathbf{a}^{\\prime} {\\Sigma}\\mathbf{a}$ is\n",
        "\n",
        "$$\n",
        "\\mathbf{a}^{\\prime} {\\Sigma} \\mathbf{a} = \\sum_{j=0}^{N} a_j \\left( \\sum_{i=0}^{N} a_i \\sigma_{ij} \\right)\n",
        "$$\n",
        "\n",
        "You can verify that\n",
        "\n",
        "$$\n",
        "\\frac{d(\\mathbf{a}^{\\prime} {\\Sigma} \\mathbf{a}) }{d\\mathbf{a}}= 2 [\\sum_{i=0}^{N} a_i \\sigma_{i0}, ..., \\sum_{i=0}^{N} a_i \\sigma_{iN}]\n",
        "$$\n",
        "\n",
        "# Optimal portfolios with more than one asset\n",
        "\n",
        "We remember from above the previous chapter that with one asset, the\n",
        "optimal portfolio was\n",
        "\n",
        "$$\n",
        "a_{opt}=\\frac{(\\mu -r)}{\\lambda \\sigma^2}\n",
        "$$\n",
        "\n",
        "From this we concluded that:\n",
        "\n",
        "1.  The more risk-averse the person is, the less they should invest.\n",
        "2.  The larger the expected return of the asset, the more should be\n",
        "    invested.\n",
        "3.  The greater the risk associated with the asset, represented by\n",
        "    $\\sigma^2$, the less should be invested.\n",
        "\n",
        "Now, let us consider the optimal investments if we have more than one\n",
        "asset.\n",
        "\n",
        "## Optimal Portfolios with Any Number of Assets\n",
        "\n",
        "Let us now assume that the investor in the previous section has a\n",
        "portfolio of $N$ assets, not just one. Their wealth next period,\n",
        "assuming the entire amount is borrowed, is then expressed in matrix\n",
        "notation as:\n",
        "\n",
        "$$\n",
        "W_1 = \\mathbf{a}'\\mathbf{x} - \\mathbf{1}r\n",
        "$$\n",
        "\n",
        "where $\\mathbf{a}$ represents the portfolio weights, $\\mathbf{x}$\n",
        "represents the returns, and $\\mathbf{1}$ is a column vector of ones,\n",
        "such that $\\mathbf{1}r$ is a column vector of the risk-free interest\n",
        "rate $r$. Recall from earlier that the investor aims to maximize the\n",
        "difference between expected return and variance:\n",
        "\n",
        "$$\n",
        "\\max_{\\mathbf{a}} Z = \\mathbb{E}W_1 - \\lambda \\frac{1}{2} \\operatorname{var}(W_1)  \n",
        "$$\n",
        "\n",
        "$\\mathbf{x}$ now is a column vector of many normally distributed\n",
        "variables with different variances and expectations. We denote the\n",
        "expected returns by $\\mu_i$ for asset $i$, and the associated vector of\n",
        "these returns by $\\mathbf{\\mu}$. Given a portfolio $\\mathbf{a}$, the\n",
        "expected return on the portfolio then becomes:\n",
        "\n",
        "$$\n",
        "\\mathbb{E}W_1 = \\mathbf{a}^{\\prime}(\\mathbb{E}\\mathbf{x}-\\mathbf{1}r) = \\mathbf{a}^{\\prime}({\\mu} - \\mathbf{1}r)\n",
        "$$\n",
        "\n",
        "For the variance, the risk free return $r$ is not relevant, since means\n",
        "are subtracted anyway. We define the covariance matrix, all the\n",
        "combinations of variance and covariance between the stocks as\n",
        "\n",
        "$$\n",
        "\\operatorname{var}W_1 =  \\mathbf{a}^{\\prime}{\\Sigma} \\mathbf{a} = \n",
        "\\mathbf{a}^{\\prime}\n",
        "\\begin{bmatrix}\n",
        "\\sigma_00 & \\sigma_12 & \\cdots & \\sigma_1N \\\\\n",
        "\\sigma_12 & \\sigma_22 & \\cdots & \\vdots \\\\\n",
        "\\vdots & \\vdots & \\ddots & \\vdots \\\\\n",
        "\\sigma_1N & \\cdots & \\cdots & \\sigma_{NN}\n",
        "\\end{bmatrix}\n",
        "\\mathbf{a}\n",
        "$$\n",
        "\n",
        "Where $\\sigma_{ij}$ is the covariance between $i$ and $j$, and\n",
        "$\\sigma_i^2$ is the variance of asset $i$. This is the covariance\n",
        "matrix, denoted by the capital sigma, ${\\Sigma}$.\n",
        "\n",
        "When a vector is normally distributed we write it as\n",
        "$\\mathbf{x} \\sim N({\\mu}, {\\Sigma})$.\n",
        "\n",
        "We have now derived expressions for $\\mathbb{E}(W_1)$ and\n",
        "$\\operatorname{var}(W_1)$ using matrix notation. Building on the\n",
        "concepts from the previous lecture, we can now formulate our portfolio\n",
        "optimization problem as:\n",
        "\n",
        "$$\n",
        "\\max_{\\mathbf{a}} Z = \\mathbf{a}^{\\prime}({\\mu} - \\mathbf{1}r) - \\lambda \\frac{1}{2} \\mathbf{a}^{\\prime}{\\Sigma}\\mathbf{a}\n",
        "$$\n",
        "\n",
        "Taking the derivative with respect to $\\mathbf{a}^{\\prime}$ yields the\n",
        "$N$ first order conditions:\n",
        "\n",
        "$$\n",
        "\\frac{dZ}{d\\mathbf{a}} = ({\\mu} - \\mathbf{1}r) - \\lambda {\\Sigma a} = 0\n",
        "$$\n",
        "\n",
        "Hence, in optimum:\n",
        "\n",
        "$$\n",
        "{\\Sigma} \\mathbf{a}= \\frac{1}{\\lambda}({\\mu} - \\mathbf{1}r)\n",
        "$$\n",
        "\n",
        "By premultiplying with the inverse of ${\\Sigma}$, we obtain the optimal\n",
        "portfolio:\n",
        "\n",
        "$$\n",
        "\\mathbf{a_{opt}} = \\frac{1}{\\lambda} {\\Sigma}^{-1}({\\mu} - \\mathbf{1}r)\n",
        "$$\n",
        "\n",
        "Note that this formula looks very similar to the formula for an optimal\n",
        "portfolio with only one asset:\n",
        "\n",
        "$$\n",
        "a_{opt} = \\frac{\\mu - r}{\\lambda \\sigma^2}\n",
        "$$\n",
        "\n",
        "In general, we may draw the same conclusions as in the case of one\n",
        "asset:\n",
        "\n",
        "1.  The more risk-averse the person is (large $\\lambda$), the less they\n",
        "    should invest.\n",
        "2.  The larger the expected return the asset has, the more should be\n",
        "    invested.\n",
        "3.  The more risk is associated with the asset, the less should be\n",
        "    invested.\n",
        "\n",
        "# Empirical example - optimal porfolio and the portfolio front\n",
        "\n",
        "We will create an optimal portfolio and draw the “portfolio front” -\n",
        "which are the smallest possible volatility of a set of assets, for all\n",
        "return leves. We use the script feature of Titlon to fetch the data, and\n",
        "storing it in `'output/stocks.df'`"
      ]
    },
    {
      "cell_type": "code",
      "execution_count": 13,
      "id": "384d99f8",
      "metadata": {},
      "outputs": [],
      "source": [
        "import pandas as pd\n",
        "#Query script for MySQL client\n",
        "import pymysql\n",
        "con = pymysql.connect(host='titlon.uit.no', \n",
        "                                        user=\"user@name.com\", \n",
        "                                        password=\"passwordfromtitlon\", \n",
        "                                        database='OSE')  \n",
        "crsr=con.cursor()\n",
        "crsr.execute(\"SET SESSION MAX_EXECUTION_TIME=60000;\")\n",
        "crsr.execute(\"\"\"\n",
        "    SELECT  * FROM `OSE`.`equity` \n",
        "    WHERE year(`Date`) >= 2016\n",
        "    ORDER BY `Name`,`Date`\n",
        "\"\"\")\n",
        "r=crsr.fetchall()\n",
        "df=pd.DataFrame(list(r), \n",
        "            columns=[i[0] for i in crsr.description])\n",
        "df\n",
        "\n",
        "\n",
        "\n",
        "#YOU NEED TO BE CONNECTED TO YOUR INSTITUTION VIA VPN,\n",
        "# OR BE AT THE INSTITUTION, FOR THIS CODE TO WORK\n",
        "\n",
        "pd.to_pickle(df,'output/stocks.df')"
      ]
    },
    {
      "cell_type": "markdown",
      "id": "0ab91e1f-25cb-4028-8951-89a9ca8fc782",
      "metadata": {},
      "source": [
        "We now reload the data, and pick the four stocks  \n",
        "1. has been traded at the first and last day of the sample 2. that are\n",
        "most traded (sorted on sum of `Turnover`)\n",
        "\n",
        "We can obtain that with this code:"
      ]
    },
    {
      "cell_type": "code",
      "execution_count": 47,
      "id": "2f64125a",
      "metadata": {},
      "outputs": [
        {
          "data": {
            "text/html": [
              "<div>\n",
              "<style scoped>\n",
              "    .dataframe tbody tr th:only-of-type {\n",
              "        vertical-align: middle;\n",
              "    }\n",
              "\n",
              "    .dataframe tbody tr th {\n",
              "        vertical-align: top;\n",
              "    }\n",
              "\n",
              "    .dataframe thead th {\n",
              "        text-align: right;\n",
              "    }\n",
              "</style>\n",
              "<table border=\"1\" class=\"dataframe\">\n",
              "  <thead>\n",
              "    <tr style=\"text-align: right;\">\n",
              "      <th></th>\n",
              "      <th>Turnover</th>\n",
              "    </tr>\n",
              "    <tr>\n",
              "      <th>Name (ISIN)</th>\n",
              "      <th></th>\n",
              "    </tr>\n",
              "  </thead>\n",
              "  <tbody>\n",
              "    <tr>\n",
              "      <th>EQUINOR(NO0010096985)</th>\n",
              "      <td>1.523274e+12</td>\n",
              "    </tr>\n",
              "    <tr>\n",
              "      <th>NORSK HYDRO(NO0005052605)</th>\n",
              "      <td>5.525255e+11</td>\n",
              "    </tr>\n",
              "    <tr>\n",
              "      <th>TELENOR(NO0010063308)</th>\n",
              "      <td>4.934189e+11</td>\n",
              "    </tr>\n",
              "    <tr>\n",
              "      <th>YARA INTERNATIONAL(NO0010208051)</th>\n",
              "      <td>4.753943e+11</td>\n",
              "    </tr>\n",
              "  </tbody>\n",
              "</table>\n",
              "</div>"
            ],
            "text/plain": [
              "                                      Turnover\n",
              "Name (ISIN)                                   \n",
              "EQUINOR(NO0010096985)             1.523274e+12\n",
              "NORSK HYDRO(NO0005052605)         5.525255e+11\n",
              "TELENOR(NO0010063308)             4.934189e+11\n",
              "YARA INTERNATIONAL(NO0010208051)  4.753943e+11"
            ]
          },
          "execution_count": 47,
          "metadata": {},
          "output_type": "execute_result"
        }
      ],
      "source": [
        "import numpy as np\n",
        "import pandas as pd\n",
        "\n",
        "df = pd.read_pickle('output/stocks.df')\n",
        "# Defining annual risk free rate. \n",
        "rf = df['NOWA_DayLnrate'].mean()*7\n",
        "\n",
        "isin_with_first_date = df[df['Date'] == df['Date'].min()]['ISIN'].unique()\n",
        "isin_with_last_date = df[df['Date'] == df['Date'].max()]['ISIN'].unique()\n",
        "valid_isins = set(isin_with_first_date).intersection(isin_with_last_date)\n",
        "df = df[df['ISIN'].isin(valid_isins)]\n",
        "\n",
        "df['Name (ISIN)'] =df['Name'].str.upper().str.strip() + '(' + df['ISIN'] + ')'\n",
        "\n",
        "# keeping only the most traded shares\n",
        "res = (\n",
        "        df.groupby(['Name (ISIN)'])\n",
        "        .agg({'Turnover': 'sum'})\n",
        "        .sort_values(by='Turnover', ascending=False)\n",
        ")\n",
        "df = df.merge(res.head(4), on=['Name (ISIN)'], \n",
        "                                how='inner')\n",
        "res.head(4)"
      ]
    },
    {
      "cell_type": "markdown",
      "id": "4a783e21-9ac7-4dcc-b81d-a173190326d6",
      "metadata": {},
      "source": [
        "## The historic mean and covariance matrix\n",
        "\n",
        "We will now calculate the covariance matrix and the mean vector. To\n",
        "begin, we’ll create a function that reformats the data from its long\n",
        "format (where stock prices are listed sequentially in a single column)\n",
        "to a wide format. In this wide format, unique dates will be in the first\n",
        "column, with subsequent columns containing prices for each stock."
      ]
    },
    {
      "cell_type": "code",
      "execution_count": 48,
      "id": "abb52280",
      "metadata": {},
      "outputs": [
        {
          "name": "stdout",
          "output_type": "stream",
          "text": [
            "ISIN        NO0005052605  NO0010063308  NO0010096985  NO0010208051\n",
            "Date                                                              \n",
            "2016-01-04     -0.033454     -0.021125     -0.001618     -0.021381\n",
            "2016-01-05     -0.001562     -0.015267     -0.024591     -0.007499\n",
            "2016-01-06     -0.017979     -0.004205     -0.020965     -0.008911\n",
            "2016-01-07     -0.056634      0.007695     -0.025753     -0.047774\n",
            "2016-01-08     -0.028007      0.024778     -0.045361      0.027499\n",
            "...                  ...           ...           ...           ...\n",
            "2024-03-27     -0.012048      0.014179     -0.000524      0.007024\n",
            "2024-03-28      0.001682      0.003926     -0.001747     -0.003359\n",
            "2024-04-02      0.053023      0.012909      0.041116      0.014669\n",
            "2024-04-03      0.050049      0.004063      0.004354      0.018286\n",
            "2024-04-04      0.023672      0.008882      0.001169      0.011541\n",
            "\n",
            "[2092 rows x 4 columns]\n"
          ]
        },
        {
          "data": {
            "text/html": [
              "<div>\n",
              "<style scoped>\n",
              "    .dataframe tbody tr th:only-of-type {\n",
              "        vertical-align: middle;\n",
              "    }\n",
              "\n",
              "    .dataframe tbody tr th {\n",
              "        vertical-align: top;\n",
              "    }\n",
              "\n",
              "    .dataframe thead th {\n",
              "        text-align: right;\n",
              "    }\n",
              "</style>\n",
              "<table border=\"1\" class=\"dataframe\">\n",
              "  <thead>\n",
              "    <tr style=\"text-align: right;\">\n",
              "      <th>ISIN</th>\n",
              "      <th>NO0005052605</th>\n",
              "      <th>NO0010063308</th>\n",
              "      <th>NO0010096985</th>\n",
              "      <th>NO0010208051</th>\n",
              "    </tr>\n",
              "    <tr>\n",
              "      <th>Date</th>\n",
              "      <th></th>\n",
              "      <th></th>\n",
              "      <th></th>\n",
              "      <th></th>\n",
              "    </tr>\n",
              "  </thead>\n",
              "  <tbody>\n",
              "    <tr>\n",
              "      <th>2016-01-10</th>\n",
              "      <td>-0.137636</td>\n",
              "      <td>-0.008125</td>\n",
              "      <td>-0.118288</td>\n",
              "      <td>-0.058065</td>\n",
              "    </tr>\n",
              "    <tr>\n",
              "      <th>2016-01-17</th>\n",
              "      <td>-0.054818</td>\n",
              "      <td>-0.085838</td>\n",
              "      <td>-0.060966</td>\n",
              "      <td>-0.047905</td>\n",
              "    </tr>\n",
              "    <tr>\n",
              "      <th>2016-01-24</th>\n",
              "      <td>0.023505</td>\n",
              "      <td>0.049143</td>\n",
              "      <td>0.060966</td>\n",
              "      <td>0.001741</td>\n",
              "    </tr>\n",
              "    <tr>\n",
              "      <th>2016-01-31</th>\n",
              "      <td>0.024710</td>\n",
              "      <td>-0.007077</td>\n",
              "      <td>0.074498</td>\n",
              "      <td>-0.053584</td>\n",
              "    </tr>\n",
              "    <tr>\n",
              "      <th>2016-02-07</th>\n",
              "      <td>0.065780</td>\n",
              "      <td>-0.029552</td>\n",
              "      <td>0.027490</td>\n",
              "      <td>0.024170</td>\n",
              "    </tr>\n",
              "    <tr>\n",
              "      <th>...</th>\n",
              "      <td>...</td>\n",
              "      <td>...</td>\n",
              "      <td>...</td>\n",
              "      <td>...</td>\n",
              "    </tr>\n",
              "    <tr>\n",
              "      <th>2024-03-10</th>\n",
              "      <td>0.016989</td>\n",
              "      <td>-0.026157</td>\n",
              "      <td>0.026170</td>\n",
              "      <td>-0.040846</td>\n",
              "    </tr>\n",
              "    <tr>\n",
              "      <th>2024-03-17</th>\n",
              "      <td>0.038669</td>\n",
              "      <td>0.019681</td>\n",
              "      <td>0.023882</td>\n",
              "      <td>0.016898</td>\n",
              "    </tr>\n",
              "    <tr>\n",
              "      <th>2024-03-24</th>\n",
              "      <td>0.048790</td>\n",
              "      <td>0.022694</td>\n",
              "      <td>0.032784</td>\n",
              "      <td>0.026865</td>\n",
              "    </tr>\n",
              "    <tr>\n",
              "      <th>2024-03-31</th>\n",
              "      <td>-0.023257</td>\n",
              "      <td>0.026117</td>\n",
              "      <td>-0.003143</td>\n",
              "      <td>-0.004525</td>\n",
              "    </tr>\n",
              "    <tr>\n",
              "      <th>2024-04-07</th>\n",
              "      <td>0.126744</td>\n",
              "      <td>0.025854</td>\n",
              "      <td>0.046639</td>\n",
              "      <td>0.044496</td>\n",
              "    </tr>\n",
              "  </tbody>\n",
              "</table>\n",
              "<p>431 rows × 4 columns</p>\n",
              "</div>"
            ],
            "text/plain": [
              "ISIN        NO0005052605  NO0010063308  NO0010096985  NO0010208051\n",
              "Date                                                              \n",
              "2016-01-10     -0.137636     -0.008125     -0.118288     -0.058065\n",
              "2016-01-17     -0.054818     -0.085838     -0.060966     -0.047905\n",
              "2016-01-24      0.023505      0.049143      0.060966      0.001741\n",
              "2016-01-31      0.024710     -0.007077      0.074498     -0.053584\n",
              "2016-02-07      0.065780     -0.029552      0.027490      0.024170\n",
              "...                  ...           ...           ...           ...\n",
              "2024-03-10      0.016989     -0.026157      0.026170     -0.040846\n",
              "2024-03-17      0.038669      0.019681      0.023882      0.016898\n",
              "2024-03-24      0.048790      0.022694      0.032784      0.026865\n",
              "2024-03-31     -0.023257      0.026117     -0.003143     -0.004525\n",
              "2024-04-07      0.126744      0.025854      0.046639      0.044496\n",
              "\n",
              "[431 rows x 4 columns]"
            ]
          },
          "execution_count": 48,
          "metadata": {},
          "output_type": "execute_result"
        }
      ],
      "source": [
        "def get_matrix(df, field):\n",
        "    \"\"\"Converts the df to a matrix df that can \n",
        "    be used to calculate the covariance matrix\"\"\"\n",
        "    \n",
        "    import pandas as pd\n",
        "    df['Date'] = pd.to_datetime(df['Date'])\n",
        "    df_unique = df.drop_duplicates(\n",
        "                                    subset=['Date', 'ISIN'])\n",
        "    pivot_df = df_unique.pivot(index='Date', \n",
        "                                    columns='ISIN', \n",
        "                                    values=field)\n",
        "    print(pivot_df)\n",
        "    pivot_df = pivot_df.dropna()\n",
        "    \n",
        "\n",
        "    # Annualized weekly returns\n",
        "    df_weekly = pivot_df.resample('W').sum()\n",
        "\n",
        "    return df_weekly\n",
        "\n",
        "#X is a matrxi with e\n",
        "X_df = get_matrix(df, 'lnDeltaP') \n",
        "X_df = X_df.sort_index()\n",
        "X_df"
      ]
    },
    {
      "cell_type": "markdown",
      "id": "f777d0c3-58f5-40f4-b409-d0e697bef720",
      "metadata": {},
      "source": [
        "Wit this data, it is relatively easy to calculate covariance and the\n",
        "means vector"
      ]
    },
    {
      "cell_type": "code",
      "execution_count": 49,
      "id": "bc3d6b5d",
      "metadata": {},
      "outputs": [],
      "source": [
        "# Converting X to a numpy array:\n",
        "X = np.array(X_df)\n",
        "\n",
        "# Calculating the covariance\n",
        "cov_matrix = np.cov(X, rowvar=False)\n",
        "\n",
        "# Calculating the means vector, and reshaping it to a \n",
        "# column vector. \n",
        "\n",
        "means = np.mean(X, axis=0).reshape((X.shape[1],1))"
      ]
    },
    {
      "cell_type": "markdown",
      "id": "4c195a04-78f5-4be2-b05c-152f57d12221",
      "metadata": {},
      "source": [
        "## Plotting the portfolio front\n",
        "\n",
        "We now turn to portfolio front. The portfolio front represents the\n",
        "volatility of the portfolio with the least variance, for a given\n",
        "portfolio return. Hence, we want a function of portfolio return that\n",
        "represent the minimum variance portfolios.\n",
        "\n",
        "It turns out that by defining a few simple scalars, there is a\n",
        "reasonably simple expression for the set of minimum variance portfolios.\n",
        "The scalars are:\n",
        "\n",
        "$$\n",
        "A = \\mathbf{1}^{\\prime}{\\Sigma}^{-1}\\mathbf{1}\n",
        "$$\n",
        "\n",
        "$$\n",
        "C = {\\mu-\\mathbf{1}r}^{\\prime}{\\Sigma}^{-1}{\\mu-\\mathbf{1}r}\n",
        "$$\n",
        "\n",
        "With these definition, the portfolio front, representing all minimum\n",
        "variance portfolios for a given expected return and a total investment\n",
        "of 1, is\n",
        "\n",
        "$$\n",
        "{\\sigma}_{opt} =\\frac{1}{A}+\\frac{ \\left(\\mu_{opt}-\\frac{B}{A}\\right)^2}{C-\\frac{B^2}{A}} \n",
        "$$ where $\\mu_{opt}={\\mu}^{\\prime}\\mathbf{a}$\n",
        "\n",
        "This formula automatically ensures that the sum of all the portfolio\n",
        "weights are 1. Now, let us define these variables, and the function. A,\n",
        "B and C in python:"
      ]
    },
    {
      "cell_type": "code",
      "execution_count": 50,
      "id": "11eee480",
      "metadata": {},
      "outputs": [],
      "source": [
        "ones = np.ones((len(means),1))\n",
        "\n",
        "A = (ones.T @ np.linalg.inv(cov_matrix) @ ones)[0][0]\n",
        "\n",
        "B = (ones.T @ np.linalg.inv(cov_matrix) \n",
        "                                @ (means-rf))[0][0]\n",
        "\n",
        "C = ((means.T-rf) @ np.linalg.inv(cov_matrix) \n",
        "                                @ (means-rf))[0][0]"
      ]
    },
    {
      "cell_type": "markdown",
      "id": "7c69d69e-51f6-42a7-b74d-e8cdeff424f0",
      "metadata": {},
      "source": [
        "The portfolio front function, that returns the volatility associated\n",
        "with the minimum variance portfolio for a given `expected_excess_return`\n",
        "can then be defined as:"
      ]
    },
    {
      "cell_type": "code",
      "execution_count": 51,
      "id": "239a025d",
      "metadata": {},
      "outputs": [],
      "source": [
        "def portfolio_front(expected_excess_return, a, b, c):\n",
        "    r = expected_excess_return\n",
        "    minimum_variance = (1/a \n",
        "            + ((r - abs(b)/a)**2) / (c - b**2/a))\n",
        "    minimum_volatility = minimum_variance**0.5\n",
        "    return minimum_volatility"
      ]
    },
    {
      "cell_type": "markdown",
      "id": "808e0238-3560-4801-a32c-9a4e0d0a72ec",
      "metadata": {},
      "source": [
        "Let us plot this\n",
        "\n",
        "With a defined portfolio frontier function, we can now plot the\n",
        "portfolio frontier. To make the weekly returns comparable on an annual\n",
        "scale, we multiply them by a scaling factor, `plot_scale`, set to 52. We\n",
        "can simply multiply the returns, because returns in Titlon are\n",
        "conveniently defined as log returns, calculated as\n",
        "$\\log(x_{t}) - \\log(x_{t-1})$, rather than the typical relative return\n",
        "$\\frac{x_{t} - x_{t-1}}{x_{t-1}}$."
      ]
    },
    {
      "cell_type": "code",
      "execution_count": 52,
      "id": "169f7d93",
      "metadata": {},
      "outputs": [
        {
          "data": {
            "text/plain": [
              "<matplotlib.legend.Legend at 0x1f6dc8c2690>"
            ]
          },
          "execution_count": 52,
          "metadata": {},
          "output_type": "execute_result"
        },
        {
          "data": {
            "image/png": "[encoded data removed]",
            "text/plain": [
              "<Figure size 1000x600 with 1 Axes>"
            ]
          },
          "metadata": {},
          "output_type": "display_data"
        }
      ],
      "source": [
        "from matplotlib import pyplot as plt\n",
        "#Creating plot\n",
        "fig, ax = plt.subplots(figsize=(10, 6))\n",
        "plot_scale = 52\n",
        "MAX_AXIS = 0.005\n",
        "#applying the function\n",
        "rp_values = np.linspace(0, MAX_AXIS-rf, 100)\n",
        "sigma_values = portfolio_front(rp_values, A, B, C)\n",
        "\n",
        "#plotting, after annualizing the weekly data\n",
        "ax.plot(plot_scale**0.5*(sigma_values), plot_scale*(rp_values+rf), \n",
        "                        label='Efficient Frontier')\n",
        "\n",
        "#plot settings:\n",
        "ax.set_xlim([0, np.max(sigma_values*plot_scale**0.5)])\n",
        "ax.set_ylim([0, (np.max(rp_values)+rf)*plot_scale])\n",
        "ax.set_xlabel('Sigma (Risk)')\n",
        "ax.set_ylabel('Rp (Return)')\n",
        "ax.set_title('Efficient Frontier')\n",
        "ax.legend()"
      ]
    },
    {
      "cell_type": "markdown",
      "id": "c0af045e-4f2b-49e7-93df-3483574c5c63",
      "metadata": {},
      "source": [
        "A key advantage of using log returns is that they account for symmetry\n",
        "in gains and losses. For example, with relative returns, a 10% gain\n",
        "followed by a 10% loss results in a net loss of 1%. However, with log\n",
        "returns, a 10% gain and a 10% loss precisely offset each other, leaving\n",
        "you with no net change from the starting point.\n",
        "\n",
        "## Adding the optimal portfolio to the chart\n",
        "\n",
        "Let us now add the point for the optimal portfolio. The optimal\n",
        "portfolio is\n",
        "\n",
        "$$\n",
        "\\mathbf{a}_{opt} = \\frac{1}{\\lambda}{\\Sigma}^{-1}({\\mu} - \\mathbf{1}r)\n",
        "$$\n",
        "\n",
        "The total cost (sum) of this portfolio is\n",
        "\n",
        "Where the last equality follows from Equation . The normalized optimal\n",
        "portfolio is then\n",
        "\n",
        "The expected return of the optimal portfolio on the frontier, is then\n",
        "\n",
        "$$\n",
        "\\mu_{port}=({\\mu} - \\mathbf{1}r)^{\\prime}\\mathbf{a_{norm}}  = \\frac{({\\mu} - \\mathbf{1}r)^{\\prime}{\\Sigma}^{-1}({\\mu} - \\mathbf{1}r)}{ \\mathbf{1}^{\\prime}{\\Sigma}^{-1}({\\mu} - \\mathbf{1}r)} \n",
        "$$\n",
        "\n",
        "Which is simply, according to the previous definitions of B and C: $$\n",
        "\\mu_{port}=\\frac{C}{B}\n",
        "$$\n",
        "\n",
        "Let us add that to the plot"
      ]
    },
    {
      "cell_type": "code",
      "execution_count": 53,
      "id": "5c12d8d9",
      "metadata": {},
      "outputs": [
        {
          "data": {
            "image/png": "[encoded data removed]",
            "text/plain": [
              "<Figure size 1000x600 with 1 Axes>"
            ]
          },
          "execution_count": 53,
          "metadata": {},
          "output_type": "execute_result"
        }
      ],
      "source": [
        "# Calculating the tangency point of the normalized \n",
        "# optimal portfolio\n",
        "tangency_sigma =  portfolio_front(C/B, A, B, C)\n",
        "\n",
        "#plotting it, after annualizing the weekly data\n",
        "ax.plot(plot_scale**0.5*tangency_sigma, \n",
        "                    plot_scale*(C/B + rf), \n",
        "                    'ro',label='Tangency Point')\n",
        "ax.legend()\n",
        "fig"
      ]
    },
    {
      "cell_type": "markdown",
      "id": "5c0ce71a-9319-4336-b64c-5d30647fd5c0",
      "metadata": {},
      "source": [
        "## Adding the tangency line\n",
        "\n",
        "Let us now draw a tangency line from the risk free interest rate `rf` to\n",
        "the optimal portfolio point. The slope will be the Sharp-ratio\n",
        "\n",
        "$$\n",
        "S=\\frac{C/B}{f(C/B)}\n",
        "$$\n",
        "\n",
        "where $f(C/B)$ is the portfolio front function\n",
        "`portfolio_front(C/B, A, B, C)` at `C/B`"
      ]
    },
    {
      "cell_type": "code",
      "execution_count": 21,
      "id": "c39ceee8",
      "metadata": {},
      "outputs": [
        {
          "data": {
            "image/png": "[encoded data removed]"
          },
          "metadata": {},
          "output_type": "display_data"
        }
      ],
      "source": [
        "sigma_range = np.linspace(0, np.max(sigma_values), 100)\n",
        "\n",
        "# Plotting the portfolio front, after annualizing the \n",
        "# weekly data\n",
        "ax.plot(plot_scale**0.5*sigma_range, plot_scale*(rf \n",
        "                + sigma_range*(C/B)/tangency_sigma), \n",
        "                color='r', linestyle='--', \n",
        "                label='Capital Market Line')\n",
        "\n",
        "ax.legend()\n",
        "\n",
        "fig"
      ]
    },
    {
      "cell_type": "markdown",
      "id": "70e69886-05d9-42a9-ae1c-a0cb780162af",
      "metadata": {},
      "source": [
        "## Adding the stocks spanning the portfolio front\n",
        "\n",
        "It is interesting to check where the original stocks that span the\n",
        "front, are in the picture. Let us add the cooridnates of these. We first\n",
        "calcualate their mean and standard devaition, and then plot them."
      ]
    },
    {
      "cell_type": "code",
      "execution_count": 22,
      "id": "a570adef",
      "metadata": {},
      "outputs": [
        {
          "data": {
            "text/html": [
              "\n",
              "<p>256 rows × 3 columns</p>\n",
              "</div>"
            ]
          },
          "metadata": {},
          "output_type": "display_data"
        }
      ],
      "source": [
        "X_df"
      ]
    },
    {
      "cell_type": "code",
      "execution_count": 23,
      "id": "739e27e5",
      "metadata": {},
      "outputs": [
        {
          "data": {
            "image/png": "[encoded data removed]"
          },
          "metadata": {},
          "output_type": "display_data"
        }
      ],
      "source": [
        "expected = X_df.mean()*52\n",
        "std = X_df.std()*52**0.5\n",
        "\n",
        "\n",
        "for series in expected.index:\n",
        "        ax.scatter(std[series], expected[series], label=series)\n",
        "        ax.text(std[series], expected[series], series, fontsize=8, ha='right', va='bottom')\n",
        "\n",
        "fig"
      ]
    },
    {
      "cell_type": "markdown",
      "id": "82ce0d5d-3d82-4c9a-a706-565f95de602e",
      "metadata": {},
      "source": [
        "## The optimal portfolio\n",
        "\n",
        "Finally, we might want to evaluate the actual amounts that we should\n",
        "invest in each company, if we wanted to invest in the optimal portfolio.\n",
        "The actual portfolio, normalized to sum to one, is as previously implied\n",
        "\n",
        "$$\n",
        "\\mathbf{a}_{norm}  = \\frac{1}\n",
        "{B} {\\Sigma}^{-1}({\\mu} - \\mathbf{1}r) \n",
        "$$\n",
        "\n",
        "where $B$ is the sum of the optimal portfolio, as previously defined in\n",
        "\n",
        "We can code that as"
      ]
    },
    {
      "cell_type": "code",
      "execution_count": 24,
      "id": "25d5b7d0",
      "metadata": {},
      "outputs": [
        {
          "name": "stdout",
          "output_type": "stream",
          "text": [
            "Hence the optimal portfolio in this case is"
          ]
        },
        {
          "data": {
            "text/html": [
              "\n",
              "</div>"
            ]
          },
          "metadata": {},
          "output_type": "display_data"
        }
      ],
      "source": [
        "#Calculating the normalized optimal portfolio\n",
        "opt_port = np.linalg.inv(cov_matrix) @ (means-rf)/B\n",
        "\n",
        "#Calculating the returns of the optimal portfolio:\n",
        "X_df['Optimal'] = X @ opt_port\n",
        "\n",
        "#Saving the dataframe for later use:\n",
        "pd.to_pickle(X_df, 'output/X.df')\n",
        "\n",
        "# inserting the portfolio into a data frame for display\n",
        "d = {}\n",
        "for i in range(len(opt_port)):\n",
        "    d[X_df.columns[i]] = [f\"{np.round(opt_port[i][0]*100,0)}%\"]\n",
        "\n",
        "print(\"Hence the optimal portfolio in this case is\")\n",
        "pd.DataFrame(d)"
      ]
    },
    {
      "cell_type": "markdown",
      "id": "bf1f2543-8dc0-497c-9946-f2950ad95e8b",
      "metadata": {},
      "source": [
        "***Coding Challenges:***\n",
        "\n",
        "-   **Challenge 1**: Obtain a three or four return series for\n",
        "    portfolios, for example your portfolio, the market portfolio and the\n",
        "    factors at titlon and calculate the variance-covariance matrix and\n",
        "    the means\n",
        "\n",
        "-   **Challenge 2**: Use your calculated covariance matrix and means,\n",
        "    and the code provided above, to draw a portfolio front.\n",
        "\n",
        "-   **Challenge 3**: Use the same information to plot the points of each\n",
        "    portfolio in the same chart.\n",
        "\n",
        "-   **Challenge 4**: Calculate the optimal portfolio and place it in the\n",
        "    chart, together with the capital market line"
      ]
    }
  ],
  "metadata": {
    "kernelspec": {
      "display_name": "Python 3 (ipykernel)",
      "language": "python",
      "name": "python3",
      "path": "C:"
    },
    "language_info": {
      "codemirror_mode": {
        "name": "ipython",
        "version": "3"
      },
      "file_extension": ".py",
      "mimetype": "text/x-python",
      "name": "python",
      "nbconvert_exporter": "python",
      "pygments_lexer": "ipython3",
      "version": "3.12.7"
    }
  },
  "nbformat": 4,
  "nbformat_minor": 5
}
