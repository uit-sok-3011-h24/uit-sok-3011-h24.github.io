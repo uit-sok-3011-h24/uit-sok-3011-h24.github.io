{
  "cells": [
    {
      "cell_type": "markdown",
      "metadata": {},
      "source": [
        "# 3 - Matrices, Optimal Portfolios and Factors\n",
        "\n",
        "Espen Sirnes  \n",
        "2024-09-18\n",
        "\n",
        "This lecture explores the strategic behavior of an investor in the stock\n",
        "market, particularly under the assumption of risk aversion, as discussed\n",
        "in the previous note on utility theory. Risk lovers generally prefer the\n",
        "most risky assets, while risk-neutral investors opt for assets with the\n",
        "highest returns. In contrast, a risk-averse investor seeks to maximize\n",
        "returns without disproportionately increasing volatility, typically\n",
        "measured as variance.\n",
        "\n",
        "# Matrices\n",
        "\n",
        "To calculate optimal portfolios for any number of assets, a basic\n",
        "understanding of matrix algebra is essential. Matrix algebra simplifies\n",
        "the resolution of several equations simultaneously, a process that\n",
        "becomes increasingly complex with the addition of variables. Using\n",
        "matrix functions in software like Excel and various statistical packages\n",
        "allows us to solve systems of equations efficiently without manually\n",
        "computing each one.\n",
        "\n",
        "Matrices not only streamline the computation but also simplify notation,\n",
        "making the formulation of equations for optimal portfolios more\n",
        "manageable.\n",
        "\n",
        "A matrix is a structured array of numbers arranged in rows and columns,\n",
        "essentially a set of vectors. Here’s an example of a vector:"
      ],
      "id": "e6bf84c0-3f38-4afd-8818-5a5de26f3ae0"
    },
    {
      "cell_type": "code",
      "execution_count": 1,
      "metadata": {},
      "outputs": [
        {
          "output_type": "display_data",
          "metadata": {},
          "data": {
            "text/plain": [
              "array([15, 33, 99])"
            ]
          }
        }
      ],
      "source": [
        "import numpy as np\n",
        "np.random.randint(0,100,3)"
      ],
      "id": "283a94e7"
    },
    {
      "cell_type": "markdown",
      "metadata": {},
      "source": [
        "Combining several vectors side-by-side forms a matrix:"
      ],
      "id": "338ecf36-d13b-41ce-bf2a-c223b7a8ecd9"
    },
    {
      "cell_type": "code",
      "execution_count": 2,
      "metadata": {},
      "outputs": [
        {
          "output_type": "display_data",
          "metadata": {},
          "data": {
            "text/plain": [
              "array([[ 5, 62, 92],\n",
              "       [60, 53, 55]])"
            ]
          }
        }
      ],
      "source": [
        "np.random.randint(0,100,(2,3))"
      ],
      "id": "7eec0246"
    },
    {
      "cell_type": "markdown",
      "metadata": {},
      "source": [
        "This format is sometimes denoted as $\\mathbf{X}_{N \\times K}$ to\n",
        "indicate the number of rows ($N$) and columns ($K$).\n",
        "\n",
        "# Algebra with Matrices\n",
        "\n",
        "Matrix algebra operates under similar principles to ordinary\n",
        "algebra—allowing addition, subtraction, multiplication, and division\n",
        "(through inversion)—but it also requires adherence to specific rules.\n",
        "\n",
        "## Matrix Multiplication\n",
        "\n",
        "The core operation in matrix algebra is matrix multiplication, which\n",
        "combines elements from the rows of the first matrix with the columns of\n",
        "the second. For example, multiplying a $2 \\times 3$ matrix by a\n",
        "$3 \\times 2$ matrix yields:"
      ],
      "id": "95f7743d-10bc-4dad-b12f-085c9b1f0a86"
    },
    {
      "cell_type": "code",
      "execution_count": 3,
      "metadata": {},
      "outputs": [
        {
          "output_type": "stream",
          "name": "stdout",
          "text": [
            "[[1 1 0]\n",
            " [0 4 1]]\n",
            "[[1 1]\n",
            " [0 3]\n",
            " [3 0]]\n",
            "[[ 1  4]\n",
            " [ 3 12]]"
          ]
        }
      ],
      "source": [
        "X = np.random.randint(0,5,(2,3))\n",
        "Y = np.random.randint(0,5,(3,2))\n",
        "result = np.dot(X, Y)\n",
        "print(X)\n",
        "print(Y)\n",
        "print(result)"
      ],
      "id": "63c34d86"
    },
    {
      "cell_type": "markdown",
      "metadata": {},
      "source": [
        "What happens is that we sum the product of the elements in each row of\n",
        "the first matrix and each column of the second. You can for example\n",
        "check that element \\[0,0\\] of the result is the sum of the product of\n",
        "the first row of the first matrix, and the first column of the second.\n",
        "An easy way to remember this is to think of the multiplication of\n",
        "$A \\times B$ is to follow the lines of the letters: ![multiplication\n",
        "rule](attachment:img/multrule.png \"Muliplication rule\")\n",
        "\n",
        "Due to the rules for matrix multiplication, it requires the number of\n",
        "columns in the first matrix to match the number of rows in the second.\n",
        "\n",
        "The matrix multiplication is different from the normal multiplication in\n",
        "Python. Normal multiplicaiton can be done with the normal multiplication\n",
        "operator `*`. It will then multiply each element in X with the\n",
        "corresponding element of Y, and both matrices must be of the same size:"
      ],
      "attachments": {
        "img/multrule.png": {
          "image/png": "[encoded data removed]"
        }
      },
      "id": "8d916ad8-2415-45c0-9008-70771575855d"
    },
    {
      "cell_type": "code",
      "execution_count": 4,
      "metadata": {},
      "outputs": [
        {
          "output_type": "stream",
          "name": "stdout",
          "text": [
            "[[3 1 4]\n",
            " [0 3 4]]\n",
            "[[1 0 3]\n",
            " [4 1 0]]\n",
            "[[ 3  0 12]\n",
            " [ 0  3  0]]"
          ]
        }
      ],
      "source": [
        "X = np.random.randint(0,5,(2,3))\n",
        "Y = np.random.randint(0,5,(2,3))\n",
        "result = X*Y\n",
        "print(X)\n",
        "print(Y)\n",
        "print(result)"
      ],
      "id": "4c024416"
    },
    {
      "cell_type": "markdown",
      "metadata": {},
      "source": [
        "The reason for using the former method, is that the former is required\n",
        "for solving sets of equations.\n",
        "\n",
        "## Adding and Subtracting Matrices\n",
        "\n",
        "Adding or subtracting matrices is straightforward; simply add or\n",
        "subtract corresponding elements. In Python, the multiplication requires\n",
        "numpy function, but if the matrices are numpy variables, subtraction and\n",
        "addition can be done with the normal operators."
      ],
      "id": "f43f45a6-f514-455c-9c96-29b36ee2da33"
    },
    {
      "cell_type": "code",
      "execution_count": 5,
      "metadata": {},
      "outputs": [
        {
          "output_type": "stream",
          "name": "stdout",
          "text": [
            "[[69 21]\n",
            " [98 56]]\n",
            "[[82 78]\n",
            " [20  1]]\n",
            "[[151  99]\n",
            " [118  57]]"
          ]
        }
      ],
      "source": [
        "import numpy as np\n",
        "\n",
        "X = np.random.randint(0,100,(2,2))\n",
        "Y = np.random.randint(0,100,(2,2))\n",
        "\n",
        "# Addition of matrices\n",
        "result_add = X + Y\n",
        "print(X)\n",
        "print(Y)\n",
        "print(result_add)"
      ],
      "id": "dd99561b"
    },
    {
      "cell_type": "markdown",
      "metadata": {},
      "source": [
        "## Dividing with a Matrix\n",
        "\n",
        "While direct division isn’t defined in matrix operations, we can achieve\n",
        "a similar result by multiplying by the inverse of a matrix. The inverse\n",
        "of a matrix $\\mathbf{X}$, denoted $\\mathbf{X}^{-1}$, satisfies:\n",
        "\n",
        "$$\n",
        "\\mathbf{X} \\times \\mathbf{X}^{-1} = \\mathbf{I} =\n",
        "\\begin{pmatrix}\n",
        "1 & 0 & \\cdots & 0 \\\\\n",
        "0 & 1 & \\cdots & 0 \\\\\n",
        "\\vdots & \\vdots & \\ddots & \\vdots \\\\\n",
        "0 & 0 & \\cdots & 1\n",
        "\\end{pmatrix}\n",
        "$$\n",
        "\n",
        "where $\\mathbf{I}$ is the identity matrix. Multiplying any matrix by\n",
        "$\\mathbf{I}$ results in the original matrix, akin to multiplying any\n",
        "number by 1.\n",
        "\n",
        "In practice, while the concept is straightforward, the actual\n",
        "calculation of a matrix inverse can become complex for larger matrices\n",
        "and is typically handled by computers. We will not go through the method\n",
        "of obtaining the inverse in this course, we will in stead just utilize\n",
        "the numpy funciton for calculating the inverse. Specifically, we use\n",
        "`np.linalg.inv(X)`. We can check that it actually complies with the\n",
        "definition like this:"
      ],
      "id": "f80a3859-2a90-4b1e-88e2-46f360028348"
    },
    {
      "cell_type": "code",
      "execution_count": 6,
      "metadata": {},
      "outputs": [],
      "source": [
        "X = np.random.randint(0,10,(3,3))\n",
        "# Calculating inverse of X\n",
        "X_inv = np.linalg.inv(X)\n",
        "\n",
        "# Testing\n",
        "np.round(np.dot(X_inv, X),1)"
      ],
      "id": "e113edb7"
    },
    {
      "cell_type": "markdown",
      "metadata": {},
      "source": [
        "## Solving Equations with Matrix Algebra\n",
        "\n",
        "The foundation we’ve established for matrix algebra now allows us to\n",
        "efficiently solve systems of equations. Consider solving the following\n",
        "pair of simultaneous equations:\n",
        "\n",
        "$$\n",
        "x_{11}a_{1} + x_{12}a_{2} = b_{1} \\\\\n",
        "x_{21}a_{1} + x_{22}a_{2} = b_{2}\n",
        "$$\n",
        "\n",
        "Here, we know the values of $x$ and $b$ but need to find the values of\n",
        "$a$. These equations can be succinctly expressed using matrix notation:\n",
        "\n",
        "$$\n",
        "\\mathbf{X \\times a} = \\mathbf{b}\n",
        "$$\n",
        "\n",
        "where $\\mathbf{a}$ and $\\mathbf{b}$ are column vectors. Let us define\n",
        "the right hand side vector `b` and the coeficient matrix `X` randomly in\n",
        "python as"
      ],
      "id": "8f6b2585-a1e2-4b6f-8f91-31bb47d44502"
    },
    {
      "cell_type": "code",
      "execution_count": 7,
      "metadata": {},
      "outputs": [
        {
          "output_type": "stream",
          "name": "stdout",
          "text": [
            "[[55  9]\n",
            " [ 4  0]]\n",
            "[[24]\n",
            " [77]]"
          ]
        }
      ],
      "source": [
        "b =  np.random.randint(0,100,(2,1))\n",
        "# Define matrix X\n",
        "X =  np.random.randint(0,100,(2,2))\n",
        "print(X)\n",
        "print(b)"
      ],
      "id": "3128441e"
    },
    {
      "cell_type": "markdown",
      "metadata": {},
      "source": [
        "To solve for $\\mathbf{a}$, we use the inverse of $\\mathbf{X}$, provided\n",
        "it exists, and multiplies it with the left and right hand sides of the\n",
        "equation, just as we would divide with X on both sides to solve for a\n",
        "single equation:\n",
        "\n",
        "$$\n",
        "\\mathbf{X}^{-1} \\times \\mathbf{X} \\times \\mathbf{a} = \\mathbf{X}^{-1}\\mathbf{b}\n",
        "$$\n",
        "\n",
        "Since we know that $\\mathbf{X}^{-1}$ is the solution to\n",
        "$\\mathbf{X}^{-1} \\times \\mathbf{X} = \\mathbf{I}$, premultiplying with\n",
        "$\\mathbf{X}^{-1}$ yields:\n",
        "\n",
        "$$\n",
        "\\mathbf{a} = \\mathbf{X}^{-1}\\mathbf{b}\n",
        "$$\n",
        "\n",
        "Hence, we have found an easy way to solve any linear equation. We can\n",
        "test that it works in python. Let us first find `a` using this approach:"
      ],
      "id": "0a628e09-ed2f-4814-911d-81a4c17d6473"
    },
    {
      "cell_type": "code",
      "execution_count": 8,
      "metadata": {},
      "outputs": [
        {
          "output_type": "display_data",
          "metadata": {},
          "data": {
            "text/plain": [
              "array([[  19.25      ],\n",
              "       [-114.97222222]])"
            ]
          }
        }
      ],
      "source": [
        "a = np.dot(np.linalg.inv(X), b)\n",
        "a"
      ],
      "id": "71cb63a8"
    },
    {
      "cell_type": "markdown",
      "metadata": {},
      "source": [
        "If you get a “Singular matrix” error its because we are generating `X`\n",
        "with a few random integers, which sometimes creates unsolvable systems,\n",
        "so just generate `X` and `b` again.\n",
        "\n",
        "Now we can test, if the solution for a actually works, by applying it on\n",
        "the original equation $\\mathbf{X \\times a} = \\mathbf{b}$. This should\n",
        "yield the right hand side of th equation, `b`:"
      ],
      "id": "1946fc71-c4af-408f-9195-ec643e30193c"
    },
    {
      "cell_type": "code",
      "execution_count": 9,
      "metadata": {},
      "outputs": [
        {
          "output_type": "display_data",
          "metadata": {},
          "data": {
            "text/plain": [
              "array([[24.],\n",
              "       [77.]])"
            ]
          }
        }
      ],
      "source": [
        "np.dot(X, a)"
      ],
      "id": "f37e3ef6"
    },
    {
      "cell_type": "markdown",
      "metadata": {},
      "source": [
        "Compare this with the actual `b`:"
      ],
      "id": "35c703d9-89d2-435a-9c2b-380c73f3844e"
    },
    {
      "cell_type": "code",
      "execution_count": 10,
      "metadata": {},
      "outputs": [
        {
          "output_type": "display_data",
          "metadata": {},
          "data": {
            "text/plain": [
              "array([[24.],\n",
              "       [77.]])"
            ]
          }
        }
      ],
      "source": [
        "np.dot(X, a)"
      ],
      "id": "2baedd9f"
    },
    {
      "cell_type": "markdown",
      "metadata": {},
      "source": [
        "Thus, we have identified an effective method to solve any system of\n",
        "equations, provided that $\\mathbf{X}$ is invertible. If $\\mathbf{X}$\n",
        "cannot be inverted, it indicates that two or more equations are\n",
        "essentially identical, leading to an “underdetermined” system. In such\n",
        "cases, some equations are redundant, and there are not enough\n",
        "independent equations to determine the values of all variables. Remember\n",
        "the fundamental rule: we need an equal number of equations and unknowns\n",
        "to uniquely solve for each variable.\n",
        "\n",
        "## Transposing\n",
        "\n",
        "Transposing a matrix involves swapping its rows and columns. For\n",
        "example, a $2 \\times 3$ matrix:\n",
        "\n",
        "$$\n",
        "\\mathbf{X}_{2 \\times 3} =\n",
        "\\begin{pmatrix}\n",
        "x_{11} & x_{12} & x_{13} \\\\\n",
        "x_{21} & x_{22} & x_{23}\n",
        "\\end{pmatrix}\n",
        "$$\n",
        "\n",
        "transposes to:\n",
        "\n",
        "$$\n",
        "\\mathbf{X}_{2 \\times 3}^{\\prime} =\n",
        "\\begin{pmatrix}\n",
        "x_{11} & x_{21} \\\\\n",
        "x_{12} & x_{22} \\\\\n",
        "x_{13} & x_{23}\n",
        "\\end{pmatrix}\n",
        "$$\n",
        "\n",
        "where $^{\\prime}$ denotes the transposed matrix. For a column vector\n",
        "$\\mathbf{a}$, transposing and then multiplying by itself,\n",
        "$\\mathbf{a}^{\\prime}\\mathbf{a}$, calculates the sum of squares of its\n",
        "components."
      ],
      "id": "bf6ab956-ae8c-45f2-ab43-f52dbbeaf239"
    },
    {
      "cell_type": "code",
      "execution_count": 11,
      "metadata": {},
      "outputs": [
        {
          "output_type": "display_data",
          "metadata": {},
          "data": {
            "text/plain": [
              "array([[90, 68],\n",
              "       [65, 66],\n",
              "       [43, 85]])"
            ]
          }
        }
      ],
      "source": [
        "# Example of matrix transposition\n",
        "X_2x3 = np.random.randint(0,100,(2,3))\n",
        "X_transposed = X_2x3.T\n",
        "X_transposed"
      ],
      "id": "3233684a"
    },
    {
      "cell_type": "markdown",
      "metadata": {},
      "source": [
        "Transposition is often used to conform to the requirements of matrix\n",
        "multiplication, where the number of columns in the first matrix must\n",
        "match the number of rows in the second. If this is not the case, one\n",
        "might transpose the first matrix to facilitate multiplication.\n",
        "\n",
        "# Calculus and matrices\n",
        "\n",
        "Deriving matrices follows similar principles to deriving polynomials.\n",
        "For instance:\n",
        "\n",
        "$$\n",
        "\\frac{d\\left( a^{2} \\sigma^{2} \\right)}{da} = 2a \\sigma^{2}\n",
        "$$\n",
        "\n",
        "applies to scalar variables, and for a matrix $\\Sigma$ and a column\n",
        "vector $\\mathbf{a}$, we have:\n",
        "\n",
        "$$\n",
        "\\frac{d\\left(\\mathbf{a}^{\\prime}{\\Sigma}\\mathbf{a}\\right)}{d\\mathbf{a}^{\\prime}} =2{\\Sigma}\\mathbf{a}\n",
        "$$\n",
        "\n",
        "assuming ${\\Sigma}$ is symmetric. In practical terms, the derivative\n",
        "with respect to `a` here, given some values for `a`, is"
      ],
      "id": "ed5f4543-7cd7-491f-96b5-b3ff8d3366f9"
    },
    {
      "cell_type": "code",
      "execution_count": 12,
      "metadata": {},
      "outputs": [
        {
          "output_type": "display_data",
          "metadata": {},
          "data": {
            "text/plain": [
              "array([[13524],\n",
              "       [10686]])"
            ]
          }
        }
      ],
      "source": [
        "# Derivation with matrix and vector\n",
        "a = np.random.randint(0,100,(2,1))\n",
        "Sigma = np.random.randint(0,100,(2,2))\n",
        "\n",
        "# Derivative of a' Sigma a with respect to a\n",
        "derivative = 2 * np.dot(Sigma, a)\n",
        "derivative"
      ],
      "id": "ec0a4f56"
    },
    {
      "cell_type": "markdown",
      "metadata": {},
      "source": [
        "We can rewrite the matrix formulation in scalar form, to check that the\n",
        "rule is correct. The scalar form of\n",
        "$\\mathbf{a}^{\\prime} {\\Sigma}\\mathbf{a}$ is\n",
        "\n",
        "$$\n",
        "\\mathbf{a}^{\\prime} {\\Sigma} \\mathbf{a} = \\sum_{j=0}^{N} a_j \\left( \\sum_{i=0}^{N} a_i \\sigma_{ij} \\right)\n",
        "$$\n",
        "\n",
        "You can verify that\n",
        "\n",
        "$$\n",
        "\\frac{d(\\mathbf{a}^{\\prime} {\\Sigma} \\mathbf{a}) }{d\\mathbf{a}}= 2 [\\sum_{i=0}^{N} a_i \\sigma_{i0}, ..., \\sum_{i=0}^{N} a_i \\sigma_{iN}]\n",
        "$$\n",
        "\n",
        "# Optimal portfolios with more than one asset\n",
        "\n",
        "We remember from above the previous chapter that with one asset, the\n",
        "optimal portfolio was\n",
        "\n",
        "$$\n",
        "a_{opt}=\\frac{(\\mu -r)}{\\lambda \\sigma^2}\n",
        "$$\n",
        "\n",
        "From this we concluded that:\n",
        "\n",
        "1.  The more risk-averse the person is, the less they should invest.\n",
        "2.  The larger the expected return of the asset, the more should be\n",
        "    invested.\n",
        "3.  The greater the risk associated with the asset, represented by\n",
        "    $\\sigma^2$, the less should be invested.\n",
        "\n",
        "Now, let us consider the optimal investments if we have more than one\n",
        "asset.\n",
        "\n",
        "## Optimal Portfolios with Any Number of Assets\n",
        "\n",
        "Let us now assume that the investor in the previous section has a\n",
        "portfolio of $N$ assets, not just one. Their wealth next period,\n",
        "assuming the entire amount is borrowed, is then expressed in matrix\n",
        "notation as:\n",
        "\n",
        "$$\n",
        "W_1 = \\mathbf{a}'\\mathbf{x} - \\mathbf{1}r\n",
        "$$\n",
        "\n",
        "where $\\mathbf{a}$ represents the portfolio weights, $\\mathbf{x}$\n",
        "represents the returns, and $\\mathbf{1}$ is a column vector of ones,\n",
        "such that $\\mathbf{1}r$ is a column vector of the risk-free interest\n",
        "rate $r$. Recall from earlier that the investor aims to maximize the\n",
        "difference between expected return and variance:\n",
        "\n",
        "$$\n",
        "\\max_{\\mathbf{a}} Z = \\mathbb{E}W_1 - \\lambda \\frac{1}{2} \\operatorname{var}(W_1)  \n",
        "$$\n",
        "\n",
        "$\\mathbf{x}$ now is a column vector of many normally distributed\n",
        "variables with different variances and expectations. We denote the\n",
        "expected returns by $\\mu_i$ for asset $i$, and the associated vector of\n",
        "these returns by $\\mathbf{\\mu}$. Given a portfolio $\\mathbf{a}$, the\n",
        "expected return on the portfolio then becomes:\n",
        "\n",
        "$$\n",
        "\\mathbb{E}W_1 = \\mathbf{a}^{\\prime}(\\mathbb{E}\\mathbf{x}-\\mathbf{1}r) = \\mathbf{a}^{\\prime}({\\mu} - \\mathbf{1}r)\n",
        "$$\n",
        "\n",
        "For the variance, the risk free return $r$ is not relevant, since means\n",
        "are subtracted anyway. We define the covariance matrix, all the\n",
        "combinations of variance and covariance between the stocks as\n",
        "\n",
        "$$\n",
        "\\operatorname{var}W_1 =  \\mathbf{a}^{\\prime}{\\Sigma} \\mathbf{a} = \n",
        "\\mathbf{a}^{\\prime}\n",
        "\\begin{bmatrix}\n",
        "\\sigma_00 & \\sigma_12 & \\cdots & \\sigma_1N \\\\\n",
        "\\sigma_12 & \\sigma_22 & \\cdots & \\vdots \\\\\n",
        "\\vdots & \\vdots & \\ddots & \\vdots \\\\\n",
        "\\sigma_1N & \\cdots & \\cdots & \\sigma_{NN}\n",
        "\\end{bmatrix}\n",
        "\\mathbf{a}\n",
        "$$\n",
        "\n",
        "Where $\\sigma_{ij}$ is the covariance between $i$ and $j$, and\n",
        "$\\sigma_i^2$ is the variance of asset $i$. This is the covariance\n",
        "matrix, denoted by the capital sigma, ${\\Sigma}$.\n",
        "\n",
        "When a vector is normally distributed we write it as\n",
        "$\\mathbf{x} \\sim N({\\mu}, {\\Sigma})$.\n",
        "\n",
        "We have now derived expressions for $\\mathbb{E}(W_1)$ and\n",
        "$\\operatorname{var}(W_1)$ using matrix notation. Building on the\n",
        "concepts from the previous lecture, we can now formulate our portfolio\n",
        "optimization problem as:\n",
        "\n",
        "$$\n",
        "\\max_{\\mathbf{a}} Z = \\mathbf{a}^{\\prime}({\\mu} - \\mathbf{1}r) - \\lambda \\frac{1}{2} \\mathbf{a}^{\\prime}{\\Sigma}\\mathbf{a}\n",
        "$$\n",
        "\n",
        "Taking the derivative with respect to $\\mathbf{a}^{\\prime}$ yields the\n",
        "$N$ first order conditions:\n",
        "\n",
        "$$\n",
        "\\frac{dZ}{d\\mathbf{a}} = ({\\mu} - \\mathbf{1}r) - \\lambda {\\Sigma a} = 0\n",
        "$$\n",
        "\n",
        "Hence, in optimum:\n",
        "\n",
        "$$\n",
        "{\\Sigma} \\mathbf{a}= \\frac{1}{\\lambda}({\\mu} - \\mathbf{1}r)\n",
        "$$\n",
        "\n",
        "By premultiplying with the inverse of ${\\Sigma}$, we obtain the optimal\n",
        "portfolio:\n",
        "\n",
        "$$\n",
        "\\mathbf{a_{opt}} = \\frac{1}{\\lambda} {\\Sigma}^{-1}({\\mu} - \\mathbf{1}r)\n",
        "$$\n",
        "\n",
        "Note that this formula looks very similar to the formula for an optimal\n",
        "portfolio with only one asset:\n",
        "\n",
        "$$\n",
        "a_{opt} = \\frac{\\mu - r}{\\lambda \\sigma^2}\n",
        "$$\n",
        "\n",
        "In general, we may draw the same conclusions as in the case of one\n",
        "asset:\n",
        "\n",
        "1.  The more risk-averse the person is (large $\\lambda$), the less they\n",
        "    should invest.\n",
        "2.  The larger the expected return the asset has, the more should be\n",
        "    invested.\n",
        "3.  The more risk is associated with the asset, the less should be\n",
        "    invested.\n",
        "\n",
        "# Empirical example - optimal porfolio and the portfolio front\n",
        "\n",
        "We will create an optimal portfolio and draw the “portfolio front” -\n",
        "which are the smallest possible volatility of a set of assets, for all\n",
        "return leves. We use the script feature of Titlon to fetch the data, and\n",
        "storing it in `'output/stocks.df'`"
      ],
      "id": "da020a61-7c57-486a-adad-f2e662ef8698"
    },
    {
      "cell_type": "code",
      "execution_count": 13,
      "metadata": {},
      "outputs": [],
      "source": [
        "import pandas as pd\n",
        "#Query script for MySQL client\n",
        "import pymysql\n",
        "con = pymysql.connect(host='titlon.uit.no', \n",
        "                    user=\"user@name.com\", \n",
        "                    password=\"passwordfromtitlon\", \n",
        "                    database='OSE')  \n",
        "crsr=con.cursor()\n",
        "crsr.execute(\"SET SESSION MAX_EXECUTION_TIME=60000;\")\n",
        "crsr.execute(\"\"\"\n",
        "    SELECT  * FROM `OSE`.`equity` \n",
        "    WHERE year(`Date`) >= 2016\n",
        "    ORDER BY `Name`,`Date`\n",
        "\"\"\")\n",
        "r=crsr.fetchall()\n",
        "df=pd.DataFrame(list(r), \n",
        "      columns=[i[0] for i in crsr.description])\n",
        "df\n",
        "\n",
        "\n",
        "\n",
        "#YOU NEED TO BE CONNECTED TO YOUR INSTITUTION VIA VPN,\n",
        "# OR BE AT THE INSTITUTION, FOR THIS CODE TO WORK\n",
        "\n",
        "pd.to_pickle(df,'output/stocks.df')"
      ],
      "id": "9812b521"
    },
    {
      "cell_type": "markdown",
      "metadata": {},
      "source": [
        "We now reload the data, and pick the four stocks  \n",
        "1. has been traded at the first and last day of the sample 2. that are\n",
        "most traded (sorted on sum of `Turnover`)\n",
        "\n",
        "We can obtain that with this code:"
      ],
      "id": "96fccc7e-5f45-463a-9f91-9babb7830b74"
    },
    {
      "cell_type": "code",
      "execution_count": 14,
      "metadata": {},
      "outputs": [
        {
          "output_type": "display_data",
          "metadata": {},
          "data": {
            "text/html": [
              "\n",
              "</div>"
            ]
          }
        }
      ],
      "source": [
        "import numpy as np\n",
        "import pandas as pd\n",
        "\n",
        "df = pd.read_pickle('output/stocks.df')\n",
        "# Defining annual risk free rate. \n",
        "rf = df['NOWA_DayLnrate'].mean()*7\n",
        "\n",
        "isin_with_first_date = df[df['Date'] == df['Date'].min()]['ISIN'].unique()\n",
        "isin_with_last_date = df[df['Date'] == df['Date'].max()]['ISIN'].unique()\n",
        "valid_isins = set(isin_with_first_date).intersection(isin_with_last_date)\n",
        "df[df['ISIN'].isin(valid_isins)]\n",
        "\n",
        "df['Name (ISIN)'] =df['Name'].str.upper() + '(' + df['ISIN'] + ')'\n",
        "\n",
        "# keeping only the most traded shares\n",
        "res = (\n",
        "    df.groupby(['Name (ISIN)'])\n",
        "    .agg({'Turnover': 'sum'})\n",
        "    .sort_values(by='Turnover', ascending=False)\n",
        ")\n",
        "df = df.merge(res.head(4), on=['Name (ISIN)'], \n",
        "                how='inner')\n",
        "res.head(4)"
      ],
      "id": "22afb323"
    },
    {
      "cell_type": "markdown",
      "metadata": {},
      "source": [
        "## The historic mean and covariance matrix\n",
        "\n",
        "We will now calculate the covariance matrix and the mean vector. To\n",
        "begin, we’ll create a function that reformats the data from its long\n",
        "format (where stock prices are listed sequentially in a single column)\n",
        "to a wide format. In this wide format, unique dates will be in the first\n",
        "column, with subsequent columns containing prices for each stock."
      ],
      "id": "07256c8e-af93-41bf-a46a-6b96d5891713"
    },
    {
      "cell_type": "code",
      "execution_count": 15,
      "metadata": {},
      "outputs": [
        {
          "output_type": "display_data",
          "metadata": {},
          "data": {
            "text/html": [
              "\n",
              "<p>256 rows × 3 columns</p>\n",
              "</div>"
            ]
          }
        }
      ],
      "source": [
        "def get_matrix(df, field):\n",
        "    \"\"\"Converts the df to a matrix df that can \n",
        "    be used to calculate the covariance matrix\"\"\"\n",
        "    \n",
        "    df['Date'] = pd.to_datetime(df['Date'])\n",
        "    df_unique = df.drop_duplicates(\n",
        "                  subset=['Date', 'ISIN'])\n",
        "    pivot_df = df_unique.pivot(index='Date', \n",
        "                  columns='ISIN', \n",
        "                  values=field)\n",
        "\n",
        "    pivot_df = pivot_df.dropna()\n",
        "\n",
        "  # Annualized weekly returns\n",
        "    df_weekly = pivot_df.resample('W').sum()\n",
        "\n",
        "    return df_weekly\n",
        "\n",
        "#X is a matrxi with e\n",
        "X = get_matrix(df, 'lnDeltaP') \n",
        "X.sort_index()"
      ],
      "id": "03ae0e92"
    },
    {
      "cell_type": "markdown",
      "metadata": {},
      "source": [
        "Wit this data, it is relatively easy to calculate covariance and the\n",
        "means vector"
      ],
      "id": "29271b1b-8371-4167-90be-f3c9c93373b7"
    },
    {
      "cell_type": "code",
      "execution_count": 16,
      "metadata": {},
      "outputs": [],
      "source": [
        "# Converting X to a numpy array:\n",
        "X = np.array(X)\n",
        "\n",
        "# Calculating the covariance\n",
        "cov_matrix = np.cov(X, rowvar=False)\n",
        "\n",
        "# Calculating the means vector, and reshaping it to a \n",
        "# column vector. \n",
        "\n",
        "means = np.mean(X, axis=0).reshape((X.shape[1],1))"
      ],
      "id": "95af1e8e"
    },
    {
      "cell_type": "markdown",
      "metadata": {},
      "source": [
        "## Plotting the portfolio front\n",
        "\n",
        "We now turn to portfolio front. The portfolio front represents the\n",
        "volatility of the portfolio with the least variance, for a given\n",
        "portfolio return. Hence, we want a function of portfolio return that\n",
        "represent the minimum variance portfolios.\n",
        "\n",
        "It turns out that by defining a few simple scalars, there is a\n",
        "reasonably simple expression for the set of minimum variance portfolios.\n",
        "The scalars are:\n",
        "\n",
        "$$\n",
        "A = \\mathbf{1}^{\\prime}{\\Sigma}^{-1}\\mathbf{1}\n",
        "$$\n",
        "\n",
        "$$\n",
        "B = \\mathbf{1}^{\\prime}{\\Sigma}^{-1}{\\mu-\\mathbf{1}r}\n",
        "$$\n",
        "\n",
        "$$\n",
        "C = {\\mu-\\mathbf{1}r}^{\\prime}{\\Sigma}^{-1}{\\mu-\\mathbf{1}r}\n",
        "$$\n",
        "\n",
        "With these definition, the portfolio front, representing all minimum\n",
        "variance portfolios for a given expected return and a total investment\n",
        "of 1, is\n",
        "\n",
        "$$\n",
        "{sigma}_{opt} =\\frac{1}{A}+\\frac{ \\left(\\mu_{opt}-\\frac{B}{A}\\right)^2}{C-\\frac{B^2}{A}} \n",
        "$$ where $\\mu_{opt}={\\mu}^{\\prime}\\mathbf{a}$\n",
        "\n",
        "This formula automatically ensures that the sum of all the portfolio\n",
        "weights are 1. Now, let us define these variables, and the function. A,\n",
        "B and C in python:"
      ],
      "id": "4cb53b83-c093-43c3-afee-7a2a6db33808"
    },
    {
      "cell_type": "code",
      "execution_count": 17,
      "metadata": {},
      "outputs": [],
      "source": [
        "ones = np.ones((len(means),1))\n",
        "\n",
        "A = np.dot(ones.T, \n",
        "    np.dot(np.linalg.inv(cov_matrix), ones))[0][0]\n",
        "\n",
        "B = np.dot(ones.T, \n",
        "      np.dot(np.linalg.inv(cov_matrix), \n",
        "      (means-rf)))[0][0]\n",
        "\n",
        "C = np.dot((means.T-rf), \n",
        "      np.dot(np.linalg.inv(cov_matrix), \n",
        "      (means-rf)))[0][0]"
      ],
      "id": "869efdd6"
    },
    {
      "cell_type": "markdown",
      "metadata": {},
      "source": [
        "The portfolio front function, that returns the volatility associated\n",
        "with the minimum variance portfolio for a given `expected_excess_return`\n",
        "can then be defined as:"
      ],
      "id": "4032701f-2a50-429c-acd3-609f5110e0ed"
    },
    {
      "cell_type": "code",
      "execution_count": 18,
      "metadata": {},
      "outputs": [],
      "source": [
        "def portfolio_front(expected_excess_return):\n",
        "  r = expected_excess_return\n",
        "  minimum_variance = (1/A \n",
        "          + ((r - abs(B)/A)**2) / (C - B**2/A))\n",
        "  minimum_volatility = minimum_variance**0.5\n",
        "  return minimum_volatility"
      ],
      "id": "aa9f3b99"
    },
    {
      "cell_type": "markdown",
      "metadata": {},
      "source": [
        "Let us plot this\n",
        "\n",
        "With a defined portfolio frontier function, we can now plot the\n",
        "portfolio frontier. To make the weekly returns comparable on an annual\n",
        "scale, we multiply them by a scaling factor, `plot_scale`, set to 52. We\n",
        "can simply multiply the returns, because returns in Titlon are\n",
        "conveniently defined as log returns, calculated as\n",
        "$\\log(x_{t}) - \\log(x_{t-1})$, rather than the typical relative return\n",
        "$\\frac{x_{t} - x_{t-1}}{x_{t-1}}$."
      ],
      "id": "655f2564-cb8a-48d5-824f-39a3f14e228f"
    },
    {
      "cell_type": "code",
      "execution_count": 19,
      "metadata": {},
      "outputs": [
        {
          "output_type": "display_data",
          "metadata": {},
          "data": {
            "image/png": "[encoded data removed]"
          }
        }
      ],
      "source": [
        "from matplotlib import pyplot as plt\n",
        "#Creating plot\n",
        "fig, ax = plt.subplots(figsize=(10, 6))\n",
        "plot_scale = 52\n",
        "MAX_AXIS = 0.005\n",
        "#applying the function\n",
        "rp_values = np.linspace(0, MAX_AXIS-rf, 100)\n",
        "sigma_values = portfolio_front(rp_values)\n",
        "\n",
        "#plotting, after annualizing the weekly data\n",
        "ax.plot(plot_scale**0.5*(sigma_values), plot_scale*(rp_values+rf), \n",
        "            label='Efficient Frontier')\n",
        "\n",
        "#plot settings:\n",
        "ax.set_xlim([0, np.max(sigma_values*plot_scale**0.5)])\n",
        "ax.set_ylim([0, (np.max(rp_values)+rf)*plot_scale])\n",
        "ax.set_xlabel('Sigma (Risk)')\n",
        "ax.set_ylabel('Rp (Return)')\n",
        "ax.set_title('Efficient Frontier')\n",
        "ax.legend()"
      ],
      "id": "83b57579"
    },
    {
      "cell_type": "markdown",
      "metadata": {},
      "source": [
        "A key advantage of using log returns is that they account for symmetry\n",
        "in gains and losses. For example, with relative returns, a 10% gain\n",
        "followed by a 10% loss results in a net loss of 1%. However, with log\n",
        "returns, a 10% gain and a 10% loss precisely offset each other, leaving\n",
        "you with no net change from the starting point.\n",
        "\n",
        "Let us now add the point for the optimal portfolio. The optimal\n",
        "portfolio is\n",
        "\n",
        "$$\n",
        "\\mathbf{a}_{opt} = \\frac{1}{\\lambda}{\\Sigma}^{-1}({\\mu} - \\mathbf{1}r)\n",
        "$$\n",
        "\n",
        "The total cost of this portfolio is\n",
        "\n",
        "$$\n",
        "\\mathbf{1}^{\\prime}\\mathbf{a}_{opt} = \\frac{1}{\\lambda} \\mathbf{1}^{\\prime}{\\Sigma}^{-1}({\\mu} - \\mathbf{1}r)\n",
        "$$\n",
        "\n",
        "So the normalized portfolio is\n",
        "\n",
        "$$\n",
        "\\mathbf{a}_{norm}  = \\frac{ {\\Sigma}^{-1}({\\mu} - \\mathbf{1}r) }\n",
        "{ \\mathbf{1}^{\\prime}{\\Sigma}^{-1}({\\mu} - \\mathbf{1}r)} \n",
        "$$\n",
        "\n",
        "The expected return of the optimal portfolio on the frontier, is then\n",
        "\n",
        "$$\n",
        "\\mu_{port}=({\\mu} - \\mathbf{1}r)^{\\prime}\\mathbf{a_{norm}}  = \\frac{({\\mu} - \\mathbf{1}r)^{\\prime}{\\Sigma}^{-1}({\\mu} - \\mathbf{1}r)}{ \\mathbf{1}^{\\prime}{\\Sigma}^{-1}({\\mu} - \\mathbf{1}r)} \n",
        "$$\n",
        "\n",
        "Which is simply, according to the previous definitions of B and C: $$\n",
        "\\mu_{port}=\\frac{C}{B}\n",
        "$$\n",
        "\n",
        "Let us add that to the plot"
      ],
      "id": "d0679311-b329-4be6-a9d8-0c8ddc6153f0"
    },
    {
      "cell_type": "code",
      "execution_count": 20,
      "metadata": {},
      "outputs": [
        {
          "output_type": "display_data",
          "metadata": {},
          "data": {
            "image/png": "[encoded data removed]"
          }
        }
      ],
      "source": [
        "# Calculating the tangency point of the normalized \n",
        "# optimal portfolio\n",
        "tangency_sigma =  portfolio_front(C/B)\n",
        "\n",
        "#plotting it, after annualizing the weekly data\n",
        "ax.plot(plot_scale**0.5*tangency_sigma, \n",
        "          plot_scale*(C/B + rf), \n",
        "          'ro',label='Tangency Point')\n",
        "ax.legend()\n",
        "fig"
      ],
      "id": "0febc0ce"
    },
    {
      "cell_type": "markdown",
      "metadata": {},
      "source": [
        "Let us now draw a tangency line from the risk free interest rate `rf` to\n",
        "the optimal portfolio point. The slope will be the Sharp-ratio\n",
        "\n",
        "$$\n",
        "S=\\frac{C/B}{f(C/B)}\n",
        "$$\n",
        "\n",
        "where $f(C/B)$ is the portfolio front function `portfolio_front(C/B)` at\n",
        "`C/B`"
      ],
      "id": "0a5d5540-10b8-49a5-b12b-c67e7e3fc50b"
    },
    {
      "cell_type": "code",
      "execution_count": 21,
      "metadata": {},
      "outputs": [
        {
          "output_type": "display_data",
          "metadata": {},
          "data": {
            "image/png": "[encoded data removed]"
          }
        }
      ],
      "source": [
        "import pickle #For saving the plot\n",
        "\n",
        "sigma_range = np.linspace(0, np.max(sigma_values), 100)\n",
        "\n",
        "# Plotting the portfolio front, after annualizing the \n",
        "# weekly data\n",
        "ax.plot(plot_scale**0.5*sigma_range, plot_scale*(rf \n",
        "        + sigma_range*(C/B)/tangency_sigma), \n",
        "        color='r', linestyle='--', \n",
        "        label='Capital Market Line')\n",
        "\n",
        "ax.legend()\n",
        "\n",
        "fig"
      ],
      "id": "a6f97355"
    },
    {
      "cell_type": "markdown",
      "metadata": {},
      "source": [
        "***Coding Challenges:***\n",
        "\n",
        "-   **Challenge 1**: Obtain a three or four return series for\n",
        "    portfolios, for example your portfolio, the market portfolio and the\n",
        "    factors at titlon and calculate the variance-covariance matrix and\n",
        "    the means\n",
        "\n",
        "-   **Challenge 2**: Use your calculated covariance matrix and means,\n",
        "    and the code provided above, to draw a portfolio front.\n",
        "\n",
        "-   **Challenge 3**: Use the same information to plot the points of each\n",
        "    portfolio in the same chart.\n",
        "\n",
        "-   **Challenge 4**: Calculate the optimal portfolio and place it in the\n",
        "    chart, together with the capital market line\n",
        "\n",
        "# Factors\n",
        "\n",
        "Factors are portfolios constructed based on specific characteristics of\n",
        "assets. For example, Fama and French proposed factors based on company\n",
        "valuation (over- or under-valuation) and company size.\n",
        "\n",
        "## Construction of Factors\n",
        "\n",
        "A standard, simplified method for constructing a factor portfolio\n",
        "involves creating a long position in the third of assets with the\n",
        "strongest characteristic (e.g., the most undervalued) and a short\n",
        "position in the third with the weakest. For instance, the **HML** (High\n",
        "Minus Low) factor by Fama and French takes a long position in the top\n",
        "third of companies with the highest market-to-book value and shorts the\n",
        "bottom third with the lowest.\n",
        "\n",
        "This results in a portfolio with zero net cost because the long and\n",
        "short positions offset each other. Hence, there’s no need to subtract\n",
        "the risk-free rate when calculating returns for factor portfolios.\n",
        "\n",
        "In Titlon, there are four factors: **SMB**, **HML**, **LIQ**, and\n",
        "**MOM**, alongside the market factor (the market index).\n",
        "\n",
        "-   **SMB (Small Minus Big):** The return of small companies minus the\n",
        "    return of large companies.\n",
        "-   **HML (High Minus Low):** The return of companies with high\n",
        "    market-to-book ratios compared to those with low ratios.\n",
        "-   **LIQ (Liquidity):** The return of the most liquid companies minus\n",
        "    that of the least liquid.\n",
        "-   **MOM (Momentum):** The return of companies with high momentum minus\n",
        "    those with high reversal tendencies.\n",
        "\n",
        "## Factor Model\n",
        "\n",
        "The main purpose of factors is to be used in regression analysis, like\n",
        "the following:\n",
        "\n",
        "$$\n",
        "\\begin{array}{rl}\n",
        "x - r_f = \\alpha + \\beta_M (r_M - r_f)  \\\\\n",
        "+\\beta_{SMB} \\cdot SMB \\\\\n",
        "+\\beta_{HML} \\cdot HML \n",
        "+\\beta_{LIQ} \\cdot LIQ \\\\\n",
        "+\\beta_{MOM} \\cdot MOM\n",
        " + \\epsilon\n",
        "\\end{array}\n",
        "$$\n",
        "\n",
        "This is a multifactor model. If we only include the market factor, the\n",
        "model reduces to the well-known **CAPM** (Capital Asset Pricing Model).\n",
        "Adding the additional factors results in a more comprehensive **factor\n",
        "model**.\n",
        "\n",
        "## Factors in Portfolio Evaluation\n",
        "\n",
        "Numerous factors have been proposed in the literature. However, many are\n",
        "believed to be the result of data mining, so it’s common practice to use\n",
        "only the most established ones, like those mentioned above, when\n",
        "evaluating portfolio performance.\n",
        "\n",
        "The estimated $\\alpha$ from the factor model is the most widely\n",
        "recognized measure of risk-adjusted return. A positive $\\alpha$\n",
        "indicates that a portion of the excess return of $x - r_f$ cannot be\n",
        "explained by exposure to any of the factors, including the market\n",
        "factor. This implies that the portfolio has delivered some form of\n",
        "risk-free excess return.\n",
        "\n",
        "As in any regression, you can compute the standard error and p-value of\n",
        "the estimated $\\alpha$. This is crucial because, if the $\\alpha$ is not\n",
        "statistically significant, we cannot confidently conclude that it is\n",
        "different from zero. Therefore, to claim that an asset or portfolio has\n",
        "truly outperformed the market, its multifactor $\\alpha$ should be both\n",
        "positive and statistically significant.\n",
        "\n",
        "## Historical Context\n",
        "\n",
        "This framework is the standard method for determining whether a\n",
        "portfolio manager has genuinely been skilled or simply benefited from\n",
        "luck or factor exposures.\n",
        "\n",
        "The field of finance has, in many ways, been driven by the need to\n",
        "explain portfolio managers’ overperformance. In the early 20th century,\n",
        "some managers appeared to consistently outperform the market. The\n",
        "development of **CAPM** revealed that this was often due to selecting\n",
        "stocks with high market risk rather than genuine skill. Most of these\n",
        "managers did not generate CAPM alpha.\n",
        "\n",
        "For investors seeking higher returns by taking on more market risk,\n",
        "simply buying more shares (increasing exposure to the market) is\n",
        "typically more cost-effective than picking the riskiest stocks. The\n",
        "development of CAPM helped investors make more informed choices.\n",
        "\n",
        "Similarly, the introduction of factor models showed that some managers\n",
        "were merely betting on small-cap stocks or undervalued companies to\n",
        "generate excess returns. When accounting for these factors, much of the\n",
        "supposed excess return often disappears.\n",
        "\n",
        "### Coding Challenges:\n",
        "\n",
        "-   **Challenge 1**:\n",
        "    -   Download stock data from Titlon for a single stock.\n",
        "    -   Perform a multifactor regression model using the downloaded\n",
        "        data.\n",
        "    -   Analyze the significance of the alpha: check whether it is\n",
        "        statistically significant, and interpret its direction (positive\n",
        "        or negative).\n",
        "    -   Provide commentary on what the result implies in terms of the\n",
        "        stock’s performance relative to the factors.\n",
        "-   **Challenge 2**:\n",
        "    -   Download factor data from Titlon and plot the performance of\n",
        "        these factors alongside the optimal portfolio from the previous\n",
        "        chapter.\n",
        "    -   Add each factor as a data point on the chart, allowing\n",
        "        comparison between the factors and the optimal portfolio as well\n",
        "        as the portfolio frontier.\n",
        "    -   Use the following SQL query in the Titlon script to retrieve the\n",
        "        factor data:\n",
        "\n",
        "    ``` sql\n",
        "    SELECT [SMB],[HML],[LIQ],[MOM]\n",
        "      FROM [OSE].[dbo].[factors]\n",
        "      WHERE YEAR([Date]) >= 2016\n",
        "    ```\n",
        "\n",
        "    -   Plot the performance and visually assess how each factor\n",
        "        performs relative to the optimal portfolio.\n",
        "\n",
        "### Attemted answer to Challenge 2:\n",
        "\n",
        "We first download the factor data from titlon"
      ],
      "id": "9482d5c6-cab8-4c6d-b64b-6a5f56faaca8"
    },
    {
      "cell_type": "code",
      "execution_count": 22,
      "metadata": {},
      "outputs": [],
      "source": [
        "import pandas as pd\n",
        "#Query script for MySQL client\n",
        "import pymysql\n",
        "con = pymysql.connect(host='titlon.uit.no', \n",
        "                user      = \"esi000@uit.no\",\n",
        "                password  = \"%VccvGWz5UjtT9sAuU7og\",\n",
        "                database='OSE')  \n",
        "crsr=con.cursor()\n",
        "crsr.execute(\"SET SESSION MAX_EXECUTION_TIME=60000;\")\n",
        "crsr.execute(\"\"\"\n",
        "    SELECT  *\n",
        "    FROM `OSE`.`factors` \n",
        "    WHERE year(`Date`) >= 2016\n",
        "    ORDER BY `Date`\n",
        "\"\"\")\n",
        "r=crsr.fetchall()\n",
        "df=pd.DataFrame(list(r), \n",
        "      columns=[i[0] for i in crsr.description])\n",
        "df\n",
        "\n",
        "\n",
        "#YOU NEED TO BE CONNECTED TO YOUR INSTITUTION VIA VPN,\n",
        "# OR BE AT THE INSTITUTION, FOR THIS CODE TO WORK\n",
        "\n",
        "pd.to_pickle(df,'output/factors.df')"
      ],
      "id": "2c0dde42"
    },
    {
      "cell_type": "markdown",
      "metadata": {},
      "source": [
        "We then calculated the means and standard errors, after reducing the\n",
        "frequency from daily to weekly."
      ],
      "id": "d8bd99e9-c4ba-4b08-a0e8-0a7c68f34ae0"
    },
    {
      "cell_type": "code",
      "execution_count": 23,
      "metadata": {},
      "outputs": [
        {
          "output_type": "stream",
          "name": "stdout",
          "text": [
            "SMB    0.145195\n",
            "HML    0.193652\n",
            "LIQ    0.160615\n",
            "MOM    0.216708\n",
            "dtype: float64\n",
            "SMB    0.074676\n",
            "HML    0.145056\n",
            "LIQ    0.019353\n",
            "MOM    0.164041\n",
            "dtype: float64"
          ]
        },
        {
          "output_type": "display_data",
          "metadata": {},
          "data": {
            "text/html": [
              "\n",
              "<p>431 rows × 4 columns</p>\n",
              "</div>"
            ]
          }
        }
      ],
      "source": [
        "import pandas as pd\n",
        "\n",
        "df = pd.read_pickle('output/factors.df')\n",
        "df['Date'] = pd.to_datetime(df['Date'])\n",
        "df = df.set_index('Date')\n",
        "df_weekly = df.resample('W').sum()\n",
        "df_weekly = df_weekly[['SMB', 'HML', 'LIQ', 'MOM']].dropna()\n",
        "df = df[['SMB', 'HML', 'LIQ', 'MOM']].dropna()\n",
        "means = df_weekly.mean()*52\n",
        "std = df_weekly.std()*52**0.5\n",
        "print(std)\n",
        "print(means)\n",
        "df_weekly"
      ],
      "id": "5da8a4c9"
    },
    {
      "cell_type": "markdown",
      "metadata": {},
      "source": [
        "We can then plot the factors in the existing porfolio frontier"
      ],
      "id": "70faefcb-f47b-43bd-87d7-7f32a80e21b4"
    },
    {
      "cell_type": "code",
      "execution_count": 24,
      "metadata": {},
      "outputs": [],
      "source": [
        "#load the previoiusly created portfolio front\n",
        "\n",
        "for series in means.index:\n",
        "    ax.scatter(std[series], means[series], label=series)\n",
        "\n",
        "ax.legend()\n",
        "\n",
        "fig"
      ],
      "id": "fca9dde3"
    },
    {
      "cell_type": "markdown",
      "metadata": {},
      "source": [
        "Can you construct the optimal portfolio of the stocks and the factors?"
      ],
      "id": "d9f0b2a6-b4d5-4b7a-a01e-d6adcd1a02ed"
    }
  ],
  "nbformat": 4,
  "nbformat_minor": 5,
  "metadata": {
    "kernelspec": {
      "name": "python3",
      "display_name": "Python 3 (ipykernel)",
      "language": "python",
      "path": "C:"
    },
    "language_info": {
      "name": "python",
      "codemirror_mode": {
        "name": "ipython",
        "version": "3"
      },
      "file_extension": ".py",
      "mimetype": "text/x-python",
      "nbconvert_exporter": "python",
      "pygments_lexer": "ipython3",
      "version": "3.12.7"
    }
  }
}